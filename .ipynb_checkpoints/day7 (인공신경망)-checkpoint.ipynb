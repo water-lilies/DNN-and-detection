{
 "cells": [
  {
   "cell_type": "markdown",
   "metadata": {},
   "source": [
    "> ### 2020.01.20 월요일"
   ]
  },
  {
   "cell_type": "markdown",
   "metadata": {},
   "source": [
    "1. 기계학습과 딥러닝의 차이점은?\n",
    "\n",
    "2. 경사하강법 그림으로 표현하면?\n",
    "\n",
    "3. 가중치는 신경망의 어디에 해당하는가?\n",
    "<br> 신경전달물질\n",
    "<br> 시냅스에서 분포 됨(축삭말단과 수상돌기 사이)\n",
    "\n",
    "\n",
    "4. 어떻게 다층으로 복잡한 문제를 풀 수 있는가?\n",
    "\n",
    "5. 다층 네트웍을 학습시키기가 어려운 이유는?\n",
    "\n",
    "\n",
    "6. 활성화는 비선형이어야 하는가?\n",
    "\n",
    "7. sigmoid 함수의 장점?\n",
    "\n",
    "8. y = wx + b 에서 b는 왜 필요한가?\n",
    "<br> b 는 전체를 들었다 놨다 하는 것이라서(전체에 다 더하는 것) 조금만 변해도 큰 변화\n",
    "<br> 원점을 지나는 것은 큰 제약조건.\n",
    "\n",
    "\n",
    "\n",
    "9. 딥러닝의 핵심 돌파구?\n",
    "\n",
    "10. 왜 CNN을 특징 추출과 분류기결합으로 보는가?\n"
   ]
  },
  {
   "cell_type": "code",
   "execution_count": 1,
   "metadata": {
    "ExecuteTime": {
     "end_time": "2020-01-20T02:13:21.409421Z",
     "start_time": "2020-01-20T02:13:21.046886Z"
    }
   },
   "outputs": [],
   "source": [
    "import numpy as np\n",
    "import numpy.linalg as lin"
   ]
  },
  {
   "cell_type": "code",
   "execution_count": 11,
   "metadata": {
    "ExecuteTime": {
     "end_time": "2020-01-20T02:30:44.991891Z",
     "start_time": "2020-01-20T02:30:44.983913Z"
    }
   },
   "outputs": [
    {
     "name": "stdout",
     "output_type": "stream",
     "text": [
      "[[1 1]\n",
      " [2 1]]\n",
      "(2, 2)\n",
      "[[-1.  1.]\n",
      " [ 2. -1.]]\n",
      "(2,)\n",
      "(1, 2)\n",
      "(2, 1)\n",
      "[[2]\n",
      " [4]]\n"
     ]
    }
   ],
   "source": [
    "a = np.array([[1,1],[2,1]])\n",
    "print(a)\n",
    "print(a.shape)\n",
    "\n",
    "a_ = lin.inv(a)\n",
    "print(a_)\n",
    "\n",
    "y = np.array([2,4])  # 행렬로 정의해줘야지 나중에 연산할 때 편하다.\n",
    "print(y.shape)\n",
    "# y 는 컬럼벡터(한 컬럼짜리 행렬)로 표현해줘야 정확한 수식이 된다.\n",
    "y_1 = np.array([[2,4]])\n",
    "y_2 = np.array([[2],[4]])\n",
    "print(y_1.shape)\n",
    "print(y_2.shape)\n",
    "\n",
    "y = np.array([2,4]).reshape(2,1)\n",
    "print(y)"
   ]
  },
  {
   "cell_type": "code",
   "execution_count": 12,
   "metadata": {
    "ExecuteTime": {
     "end_time": "2020-01-20T02:31:33.619165Z",
     "start_time": "2020-01-20T02:31:33.616154Z"
    }
   },
   "outputs": [
    {
     "name": "stdout",
     "output_type": "stream",
     "text": [
      "[[2.]\n",
      " [0.]]\n"
     ]
    }
   ],
   "source": [
    "w = np.matmul(a_, y) \n",
    "print(w)"
   ]
  },
  {
   "cell_type": "code",
   "execution_count": 17,
   "metadata": {
    "ExecuteTime": {
     "end_time": "2020-01-20T02:37:45.716130Z",
     "start_time": "2020-01-20T02:37:45.711099Z"
    }
   },
   "outputs": [
    {
     "name": "stdout",
     "output_type": "stream",
     "text": [
      "[[-5.00000000e-01 -3.19189120e-16  5.00000000e-01]\n",
      " [ 1.33333333e+00  3.33333333e-01 -6.66666667e-01]]\n",
      "[[ 2.2       ]\n",
      " [-0.26666667]]\n"
     ]
    }
   ],
   "source": [
    "a = np.array([[1,1],[2,1],[3,1]])\n",
    "\n",
    "# a_ = lin.inv(a)  정방 행렬이 아니라서 계산될 수 없음. pinv사용하기\n",
    "a_ = lin.pinv(a)\n",
    "print(a_)\n",
    "\n",
    "y = np.array([2,4,6.4]).reshape(3,1)\n",
    "w = np.matmul(a_,y)\n",
    "print(w)"
   ]
  },
  {
   "cell_type": "code",
   "execution_count": 18,
   "metadata": {
    "ExecuteTime": {
     "end_time": "2020-01-20T02:42:04.443131Z",
     "start_time": "2020-01-20T02:42:04.438145Z"
    }
   },
   "outputs": [
    {
     "name": "stdout",
     "output_type": "stream",
     "text": [
      "1.9333333333333322\n"
     ]
    }
   ],
   "source": [
    "# y = wx + b\n",
    "y = w[0,0] * 1 + w[1,0] \n",
    "print(y)   \n",
    "# 학습데이터를 가장 잘 설명할 수 있는 직선이 나오는 것이지, 점을 지나는 것이 아니다. 오차가 존재.\n",
    "# 테스트하기 힘듦. \n",
    "# 그래서 수식을 바꿔줘야한다.\n",
    "# np.matmul(w, np.array([1,1]))"
   ]
  },
  {
   "cell_type": "code",
   "execution_count": 19,
   "metadata": {
    "ExecuteTime": {
     "end_time": "2020-01-20T02:45:56.858909Z",
     "start_time": "2020-01-20T02:45:56.853898Z"
    }
   },
   "outputs": [
    {
     "name": "stdout",
     "output_type": "stream",
     "text": [
      "[-6.86666667 -4.66666667 -2.46666667 -0.26666667  1.93333333  4.13333333\n",
      "  6.33333333]\n"
     ]
    }
   ],
   "source": [
    "y = w[0,0] * np.array([-3,-2,-1,0,1,2,3]) + w[1,0] \n",
    "# 각각을 다 곱해주는 연산을 함. (브로드캐스팅 개념...)\n",
    "print(y)"
   ]
  },
  {
   "cell_type": "code",
   "execution_count": null,
   "metadata": {},
   "outputs": [],
   "source": []
  }
 ],
 "metadata": {
  "kernelspec": {
   "display_name": "Python 3",
   "language": "python",
   "name": "python3"
  },
  "language_info": {
   "codemirror_mode": {
    "name": "ipython",
    "version": 3
   },
   "file_extension": ".py",
   "mimetype": "text/x-python",
   "name": "python",
   "nbconvert_exporter": "python",
   "pygments_lexer": "ipython3",
   "version": "3.7.4"
  }
 },
 "nbformat": 4,
 "nbformat_minor": 2
}
