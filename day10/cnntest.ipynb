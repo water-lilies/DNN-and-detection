{
 "cells": [
  {
   "cell_type": "code",
   "execution_count": 77,
   "metadata": {
    "ExecuteTime": {
     "end_time": "2020-01-23T06:07:25.196228Z",
     "start_time": "2020-01-23T06:07:25.189156Z"
    }
   },
   "outputs": [],
   "source": [
    "import keras\n",
    "import numpy as np\n",
    "from keras.applications import vgg16, inception_v3, resnet50, mobilenet\n",
    "from keras.preprocessing.image import load_img\n",
    "from keras.preprocessing.image import img_to_array\n",
    "from keras.applications.imagenet_utils import decode_predictions\n",
    "import matplotlib.pyplot as plt\n",
    "from keras import models\n",
    "from keras import layers\n",
    "from keras import optimizers\n",
    "%matplotlib inline\n",
    "from keras.preprocessing.image import ImageDataGenerator, array_to_img, img_to_array, load_img\n",
    "import cv2"
   ]
  },
  {
   "cell_type": "code",
   "execution_count": 78,
   "metadata": {
    "ExecuteTime": {
     "end_time": "2020-01-23T06:07:52.579512Z",
     "start_time": "2020-01-23T06:07:45.212811Z"
    }
   },
   "outputs": [],
   "source": [
    "#Load the VGG model\n",
    "vgg_model = vgg16.VGG16(weights='imagenet')\n",
    "\n",
    "#Load the Inception_V3 model\n",
    "inception_model = inception_v3.InceptionV3(weights='imagenet')\n",
    "\n",
    "\n",
    "#Load the ResNet50 model\n",
    "resnet_model = resnet50.ResNet50(weights='imagenet')\n",
    " \n",
    "#Load the MobileNet model\n",
    "mobilenet_model = mobilenet.MobileNet(weights='imagenet')  "
   ]
  },
  {
   "cell_type": "code",
   "execution_count": 80,
   "metadata": {
    "ExecuteTime": {
     "end_time": "2020-01-23T06:07:58.884400Z",
     "start_time": "2020-01-23T06:07:58.748848Z"
    }
   },
   "outputs": [
    {
     "name": "stdout",
     "output_type": "stream",
     "text": [
      "Found 3 images belonging to 1 classes.\n"
     ]
    }
   ],
   "source": [
    "test_datagen = ImageDataGenerator()\n",
    "\n",
    "test_generator = test_datagen.flow_from_directory(\n",
    "        'cnntest',\n",
    "        target_size=(224, 224),    \n",
    "        batch_size=3,\n",
    "        class_mode='binary', shuffle=False)\n",
    "\n",
    "X, _ =  test_generator.next()"
   ]
  },
  {
   "cell_type": "code",
   "execution_count": 81,
   "metadata": {
    "ExecuteTime": {
     "end_time": "2020-01-23T06:08:03.390185Z",
     "start_time": "2020-01-23T06:08:01.149191Z"
    }
   },
   "outputs": [],
   "source": [
    "decode_vgg = decode_predictions(\n",
    "    vgg_model.predict(\n",
    "        vgg16.preprocess_input(X.copy())), top=3)\n",
    "\n",
    "decode_resnet = decode_predictions(\n",
    "    resnet_model.predict(\n",
    "        resnet50.preprocess_input(X.copy())), top=3)  \n",
    "\n",
    "decode_mobilenet = decode_predictions(\n",
    "    mobilenet_model.predict(\n",
    "        mobilenet.preprocess_input(X.copy())), top=3)"
   ]
  },
  {
   "cell_type": "code",
   "execution_count": 82,
   "metadata": {
    "ExecuteTime": {
     "end_time": "2020-01-23T06:08:03.814340Z",
     "start_time": "2020-01-23T06:08:03.741315Z"
    }
   },
   "outputs": [],
   "source": [
    "for i in range(X.shape[0]) :\n",
    "    img = cv2.resize(X[i], (1000,1000))\n",
    "    img = cv2.cvtColor(img, cv2.COLOR_RGB2BGR)\n",
    "    cv2.putText(img, f\"VGG16: {decode_vgg[i][0][1]}\", (50, 50),\n",
    "                cv2.FONT_HERSHEY_SIMPLEX, 1, (255, 0, 0), 3)\n",
    "    cv2.putText(img, f\"rsnet: {decode_resnet[i][0][1]}\", (50, 100), \n",
    "                cv2.FONT_HERSHEY_SIMPLEX, 1, (255, 0, 0), 3)\n",
    "    cv2.putText(img, f\"mobile: {decode_mobilenet[i][0][1]}\", (50, 150), \n",
    "                cv2.FONT_HERSHEY_SIMPLEX, 1, (255, 0, 0), 3)\n",
    "    cv2.imwrite(f\"out_{i}.jpg\", img)  \n",
    "    \n",
    "    "
   ]
  }
 ],
 "metadata": {
  "kernelspec": {
   "display_name": "Python 3",
   "language": "python",
   "name": "python3"
  },
  "language_info": {
   "codemirror_mode": {
    "name": "ipython",
    "version": 3
   },
   "file_extension": ".py",
   "mimetype": "text/x-python",
   "name": "python",
   "nbconvert_exporter": "python",
   "pygments_lexer": "ipython3",
   "version": "3.7.4"
  },
  "varInspector": {
   "cols": {
    "lenName": 16,
    "lenType": 16,
    "lenVar": 40
   },
   "kernels_config": {
    "python": {
     "delete_cmd_postfix": "",
     "delete_cmd_prefix": "del ",
     "library": "var_list.py",
     "varRefreshCmd": "print(var_dic_list())"
    },
    "r": {
     "delete_cmd_postfix": ") ",
     "delete_cmd_prefix": "rm(",
     "library": "var_list.r",
     "varRefreshCmd": "cat(var_dic_list()) "
    }
   },
   "types_to_exclude": [
    "module",
    "function",
    "builtin_function_or_method",
    "instance",
    "_Feature"
   ],
   "window_display": false
  }
 },
 "nbformat": 4,
 "nbformat_minor": 2
}
