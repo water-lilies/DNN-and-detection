{
 "cells": [
  {
   "cell_type": "markdown",
   "metadata": {},
   "source": [
    "> ## 2020.01.21 화요일"
   ]
  },
  {
   "cell_type": "code",
   "execution_count": null,
   "metadata": {
    "ExecuteTime": {
     "start_time": "2020-01-21T07:00:59.648Z"
    }
   },
   "outputs": [],
   "source": [
    "import matplotlib.pyplot as plt\n",
    "from sklearn.model_selection import train_test_split\n",
    "from keras.datasets import mnist\n",
    "from keras.models import Sequential\n",
    "from keras.utils.np_utils import to_categorical\n",
    "from keras.models import Sequential\n",
    "from keras.layers import Activation, Dense\n",
    "from keras import optimizers\n",
    "from keras.layers import Dropout\n",
    "import numpy as np\n",
    "from keras.wrappers.scikit_learn import KerasClassifier\n",
    "from sklearn.ensemble import VotingClassifier\n",
    "from sklearn.metrics import accuracy_score\n",
    "from keras.layers import BatchNormalization"
   ]
  },
  {
   "cell_type": "markdown",
   "metadata": {},
   "source": [
    "## MNIST 데이터셋 로드\n",
    "- \" C: \\ Users \\ student \\ .keras \" 폴더에 생성된다."
   ]
  },
  {
   "cell_type": "code",
   "execution_count": 2,
   "metadata": {
    "ExecuteTime": {
     "end_time": "2020-01-21T01:14:37.045227Z",
     "start_time": "2020-01-21T01:14:36.819550Z"
    }
   },
   "outputs": [],
   "source": [
    "(X_train, y_train), (X_test, y_test) = mnist.load_data()"
   ]
  },
  {
   "cell_type": "code",
   "execution_count": 3,
   "metadata": {
    "ExecuteTime": {
     "end_time": "2020-01-21T01:14:41.236813Z",
     "start_time": "2020-01-21T01:14:41.231859Z"
    }
   },
   "outputs": [
    {
     "name": "stdout",
     "output_type": "stream",
     "text": [
      "(60000, 28, 28)\n",
      "(60000,)\n"
     ]
    }
   ],
   "source": [
    "print(X_train.shape)   # MNIST는 기본적으로 GRAY 영상이다.\n",
    "print(y_train.shape)"
   ]
  },
  {
   "cell_type": "code",
   "execution_count": 4,
   "metadata": {
    "ExecuteTime": {
     "end_time": "2020-01-21T01:16:46.467543Z",
     "start_time": "2020-01-21T01:16:46.271735Z"
    }
   },
   "outputs": [
    {
     "data": {
      "image/png": "[encoded data removed]",
      "text/plain": [
       "<Figure size 432x288 with 1 Axes>"
      ]
     },
     "metadata": {
      "needs_background": "light"
     },
     "output_type": "display_data"
    },
    {
     "name": "stdout",
     "output_type": "stream",
     "text": [
      "Label:  5\n"
     ]
    }
   ],
   "source": [
    "plt.imshow(X_train[0])    # show first number in the dataset\n",
    "plt.show()\n",
    "print('Label: ', y_train[0])   # 바이너리영상으로 되어있다."
   ]
  },
  {
   "cell_type": "code",
   "execution_count": 5,
   "metadata": {
    "ExecuteTime": {
     "end_time": "2020-01-21T01:18:00.902098Z",
     "start_time": "2020-01-21T01:18:00.808293Z"
    }
   },
   "outputs": [
    {
     "data": {
      "text/plain": [
       "<matplotlib.image.AxesImage at 0x21647388088>"
      ]
     },
     "execution_count": 5,
     "metadata": {},
     "output_type": "execute_result"
    },
    {
     "data": {
      "image/png": "[encoded data removed]",
      "text/plain": [
       "<Figure size 432x288 with 1 Axes>"
      ]
     },
     "metadata": {
      "needs_background": "light"
     },
     "output_type": "display_data"
    }
   ],
   "source": [
    "a = X_train[0]\n",
    "plt.imshow(X_train[0], cmap=\"gray\")  "
   ]
  },
  {
   "cell_type": "markdown",
   "metadata": {},
   "source": [
    "### reshape을 이용해서 플랫형태로 바꾼다."
   ]
  },
  {
   "cell_type": "code",
   "execution_count": 16,
   "metadata": {
    "ExecuteTime": {
     "end_time": "2020-01-21T01:43:02.344585Z",
     "start_time": "2020-01-21T01:43:02.341339Z"
    }
   },
   "outputs": [],
   "source": [
    "# reshaping X data: (n, 28, 28) => (n, 784)\n",
    "X_train = X_train.reshape((X_train.shape[0], -1))\n",
    "X_test = X_test.reshape((X_test.shape[0], -1))"
   ]
  },
  {
   "cell_type": "code",
   "execution_count": 19,
   "metadata": {
    "ExecuteTime": {
     "end_time": "2020-01-21T01:44:10.632761Z",
     "start_time": "2020-01-21T01:44:10.629779Z"
    }
   },
   "outputs": [
    {
     "name": "stdout",
     "output_type": "stream",
     "text": [
      "(6534, 784)\n"
     ]
    }
   ],
   "source": [
    "print(X_train.shape)"
   ]
  },
  {
   "cell_type": "markdown",
   "metadata": {},
   "source": [
    "#### 작은 데이터셋으로 연습하면서 머릿속에 그리는 연습을 하기."
   ]
  },
  {
   "cell_type": "code",
   "execution_count": 21,
   "metadata": {
    "ExecuteTime": {
     "end_time": "2020-01-21T01:44:40.321407Z",
     "start_time": "2020-01-21T01:44:40.316400Z"
    }
   },
   "outputs": [
    {
     "name": "stdout",
     "output_type": "stream",
     "text": [
      "[[1 2]\n",
      " [3 4]\n",
      " [5 6]]\n",
      "[[1 2]\n",
      " [3 4]\n",
      " [5 6]]\n"
     ]
    }
   ],
   "source": [
    "a = np.array([[1,2],[3,4],[5,6]])\n",
    "print(a)\n",
    "a = a.reshape((a.shape[0],-1))  # -1을 쓰면 차원을 줄여준다.\n",
    "print(a)"
   ]
  },
  {
   "cell_type": "code",
   "execution_count": null,
   "metadata": {},
   "outputs": [],
   "source": [
    "a,b = (7, 3)  <-이 방법이 더 좋음\n",
    "\n",
    "c = (7, 3)\n",
    "c[0]\n",
    "c[1]\n",
    "\n",
    "-----\n",
    "\n",
    "mean, _ = \n",
    "\"_\"는 문법이 아니라 관행적으로 쓰는 것. _ 는 쓰지 않을 변수구나 하고."
   ]
  },
  {
   "cell_type": "code",
   "execution_count": 13,
   "metadata": {
    "ExecuteTime": {
     "end_time": "2020-01-21T01:36:34.249358Z",
     "start_time": "2020-01-21T01:36:34.230347Z"
    }
   },
   "outputs": [
    {
     "name": "stdout",
     "output_type": "stream",
     "text": [
      "(6534, 28, 28)\n",
      "[9 5 3 ... 5 6 2]\n"
     ]
    }
   ],
   "source": [
    "# use only 33% of training data to expedite the training process\n",
    "X_train, _ , y_train, _ = train_test_split(X_train, y_train, test_size = 0.67, random_state = 7)\n",
    "\n",
    "# 리턴값이 여러개면 튜플을 받는다.\n",
    "# split함수를 써서 33%의 데이터만 train하겠다는 걸 의미함\n",
    "\n",
    "print(X_train.shape)\n",
    "print(y_train)  # 랜덤하게 섞여있다."
   ]
  },
  {
   "cell_type": "code",
   "execution_count": 14,
   "metadata": {
    "ExecuteTime": {
     "end_time": "2020-01-21T01:42:22.266906Z",
     "start_time": "2020-01-21T01:42:22.262975Z"
    }
   },
   "outputs": [
    {
     "name": "stdout",
     "output_type": "stream",
     "text": [
      "(10000, 10)\n"
     ]
    }
   ],
   "source": [
    "# converting y data into categorical (one-hot encoding)\n",
    "y_train = to_categorical(y_train)\n",
    "y_test = to_categorical(y_test)\n",
    "\n",
    "print(y_test.shape)"
   ]
  },
  {
   "cell_type": "code",
   "execution_count": null,
   "metadata": {},
   "outputs": [],
   "source": [
    "one - hot encoding\n",
    "0 -> 1 0 0 \n",
    "1 -> 0 1 0\n",
    "2 -> 0 0 1\n",
    "\n",
    "컴퓨터는 바이너리로 밖에 인식하지 못하기 때문에(직선 위에있으면 +, 아래 있으면 -)\n",
    "1 2 3을 분류해야 한다면, 바이너리 문제를 3번 풀어야한다.\n",
    "1/23, 2/13, 3/12 로 구분하는 바이너리 문제를 푼다."
   ]
  },
  {
   "cell_type": "code",
   "execution_count": 17,
   "metadata": {
    "ExecuteTime": {
     "end_time": "2020-01-21T01:43:05.782226Z",
     "start_time": "2020-01-21T01:43:05.778288Z"
    }
   },
   "outputs": [
    {
     "name": "stdout",
     "output_type": "stream",
     "text": [
      "(6534, 784) (10000, 784) (6534, 10) (10000, 10)\n"
     ]
    }
   ],
   "source": [
    "print(X_train.shape, X_test.shape, y_train.shape, y_test.shape)"
   ]
  },
  {
   "cell_type": "markdown",
   "metadata": {},
   "source": [
    "## Basic MLP model"
   ]
  },
  {
   "cell_type": "code",
   "execution_count": 22,
   "metadata": {
    "ExecuteTime": {
     "end_time": "2020-01-21T01:52:35.132604Z",
     "start_time": "2020-01-21T01:52:35.117686Z"
    }
   },
   "outputs": [],
   "source": [
    "model = Sequential()"
   ]
  },
  {
   "cell_type": "code",
   "execution_count": 23,
   "metadata": {
    "ExecuteTime": {
     "end_time": "2020-01-21T01:52:35.737945Z",
     "start_time": "2020-01-21T01:52:35.628099Z"
    }
   },
   "outputs": [],
   "source": [
    "model.add(Dense(50, input_shape = (784, ))) # input layer\n",
    "model.add(Activation('sigmoid'))\n",
    "\n",
    "model.add(Dense(50))\n",
    "model.add(Activation('sigmoid'))\n",
    "\n",
    "model.add(Dense(50))\n",
    "model.add(Activation('sigmoid'))\n",
    "\n",
    "model.add(Dense(50))\n",
    "model.add(Activation('sigmoid'))\n",
    "model.add(Dense(10))             # output layer\n",
    "model.add(Activation('softmax'))  \n",
    "# softmax를 쓰는 이유는 확률이 아닌 분포를 확률값으로 변환하기 위해서.\n",
    "# (전체 결과 합이 1. 일종의 정규화과정) "
   ]
  },
  {
   "cell_type": "code",
   "execution_count": 24,
   "metadata": {
    "ExecuteTime": {
     "end_time": "2020-01-21T01:52:36.618282Z",
     "start_time": "2020-01-21T01:52:36.564116Z"
    }
   },
   "outputs": [],
   "source": [
    "sgd = optimizers.SGD(lr = 0.001) \n",
    "#Adam하면 금방 올라감. 여기서 쓴건 기본적인 경사하강법.\n",
    "\n",
    "model.compile(optimizer = sgd, loss = 'categorical_crossentropy', \n",
    "              metrics = ['accuracy'])"
   ]
  },
  {
   "cell_type": "code",
   "execution_count": 28,
   "metadata": {
    "ExecuteTime": {
     "end_time": "2020-01-21T02:03:57.493879Z",
     "start_time": "2020-01-21T02:03:46.930326Z"
    }
   },
   "outputs": [],
   "source": [
    "history = model.fit(X_train, y_train, batch_size = 256, \n",
    "                    validation_split = 0.3, epochs = 200, verbose = 0)\n",
    "#validation_split=0.3 : 70%만 학습하고 30%는 제대로 학습하고있는지 검증하겠다."
   ]
  },
  {
   "cell_type": "code",
   "execution_count": 27,
   "metadata": {
    "ExecuteTime": {
     "end_time": "2020-01-21T02:02:22.528564Z",
     "start_time": "2020-01-21T02:02:22.524613Z"
    }
   },
   "outputs": [
    {
     "name": "stdout",
     "output_type": "stream",
     "text": [
      "{'val_loss': [2.5165755118963853, 2.5065698588399], 'val_accuracy': [0.09178990125656128, 0.09178990125656128], 'loss': [2.4880087351658244, 2.4783699890990083], 'accuracy': [0.10037175, 0.10037175]}\n"
     ]
    }
   ],
   "source": [
    "print(history.history)"
   ]
  },
  {
   "cell_type": "code",
   "execution_count": 26,
   "metadata": {
    "ExecuteTime": {
     "end_time": "2020-01-21T02:00:28.799073Z",
     "start_time": "2020-01-21T02:00:28.693787Z"
    }
   },
   "outputs": [
    {
     "data": {
      "image/png": "[encoded data removed]",
      "text/plain": [
       "<Figure size 432x288 with 1 Axes>"
      ]
     },
     "metadata": {
      "needs_background": "light"
     },
     "output_type": "display_data"
    }
   ],
   "source": [
    "plt.plot(history.history['accuracy'])\n",
    "plt.plot(history.history['val_accuracy'])\n",
    "plt.legend(['training', 'validation'], loc = 'upper left')\n",
    "plt.show()"
   ]
  },
  {
   "cell_type": "code",
   "execution_count": null,
   "metadata": {},
   "outputs": [],
   "source": []
  },
  {
   "cell_type": "markdown",
   "metadata": {},
   "source": [
    "## Weight Initialization"
   ]
  },
  {
   "cell_type": "code",
   "execution_count": 29,
   "metadata": {
    "ExecuteTime": {
     "end_time": "2020-01-21T02:30:37.164345Z",
     "start_time": "2020-01-21T02:30:37.149120Z"
    }
   },
   "outputs": [],
   "source": [
    "# from now on, create a function to generate (return) models\n",
    "def mlp_model():\n",
    "    model = Sequential()\n",
    "    \n",
    "    model.add(Dense(50, input_shape = (784, ), kernel_initializer='he_normal'))     # use he_normal initializer\n",
    "    model.add(Activation('sigmoid'))    \n",
    "    model.add(Dense(50, kernel_initializer='he_normal'))                            # use he_normal initializer\n",
    "    model.add(Activation('sigmoid'))    \n",
    "    model.add(Dense(50, kernel_initializer='he_normal'))                            # use he_normal initializer\n",
    "    model.add(Activation('sigmoid'))    \n",
    "    model.add(Dense(50, kernel_initializer='he_normal'))                            # use he_normal initializer\n",
    "    model.add(Activation('sigmoid'))    \n",
    "    model.add(Dense(10, kernel_initializer='he_normal'))                            # use he_normal initializer\n",
    "    model.add(Activation('softmax'))\n",
    "    \n",
    "    sgd = optimizers.SGD(lr = 0.001)\n",
    "    model.compile(optimizer = sgd, loss = 'categorical_crossentropy', metrics = ['accuracy'])\n",
    "    \n",
    "    return model"
   ]
  },
  {
   "cell_type": "code",
   "execution_count": 30,
   "metadata": {
    "ExecuteTime": {
     "end_time": "2020-01-21T02:31:00.872462Z",
     "start_time": "2020-01-21T02:30:39.089056Z"
    }
   },
   "outputs": [],
   "source": [
    "model = mlp_model()\n",
    "history = model.fit(X_train, y_train, validation_split = 0.3, \n",
    "                    epochs = 100, verbose = 0)"
   ]
  },
  {
   "cell_type": "code",
   "execution_count": 31,
   "metadata": {
    "ExecuteTime": {
     "end_time": "2020-01-21T02:31:03.670733Z",
     "start_time": "2020-01-21T02:31:03.569349Z"
    }
   },
   "outputs": [
    {
     "data": {
      "image/png": "[encoded data removed]",
      "text/plain": [
       "<Figure size 432x288 with 1 Axes>"
      ]
     },
     "metadata": {
      "needs_background": "light"
     },
     "output_type": "display_data"
    }
   ],
   "source": [
    "plt.plot(history.history['accuracy'])\n",
    "plt.plot(history.history['val_accuracy'])\n",
    "plt.legend(['training', 'validation'], loc = 'upper left')\n",
    "plt.show()\n",
    "# 초기값을 적절한 값으로 설정하면 100번만에 높은 성능을 보인다."
   ]
  },
  {
   "cell_type": "code",
   "execution_count": 32,
   "metadata": {
    "ExecuteTime": {
     "end_time": "2020-01-21T02:31:39.646061Z",
     "start_time": "2020-01-21T02:31:39.433669Z"
    }
   },
   "outputs": [
    {
     "name": "stdout",
     "output_type": "stream",
     "text": [
      "10000/10000 [==============================] - 0s 21us/step\n"
     ]
    }
   ],
   "source": [
    "results = model.evaluate(X_test, y_test)"
   ]
  },
  {
   "cell_type": "code",
   "execution_count": 33,
   "metadata": {
    "ExecuteTime": {
     "end_time": "2020-01-21T02:31:39.703824Z",
     "start_time": "2020-01-21T02:31:39.699835Z"
    }
   },
   "outputs": [
    {
     "name": "stdout",
     "output_type": "stream",
     "text": [
      "Test accuracy:  0.1662999987602234\n"
     ]
    }
   ],
   "source": [
    "print('Test accuracy: ', results[1])"
   ]
  },
  {
   "cell_type": "markdown",
   "metadata": {},
   "source": [
    "## Nonlinearity (Activation function)"
   ]
  },
  {
   "cell_type": "code",
   "execution_count": 34,
   "metadata": {
    "ExecuteTime": {
     "end_time": "2020-01-21T02:32:22.192421Z",
     "start_time": "2020-01-21T02:32:22.185436Z"
    }
   },
   "outputs": [],
   "source": [
    "def mlp_model():\n",
    "    model = Sequential()\n",
    "    \n",
    "    model.add(Dense(50, input_shape = (784, )))\n",
    "    model.add(Activation('relu'))    # use relu\n",
    "    model.add(Dense(50))\n",
    "    model.add(Activation('relu'))    # use relu\n",
    "    model.add(Dense(50))\n",
    "    model.add(Activation('relu'))    # use relu\n",
    "    model.add(Dense(50))\n",
    "    model.add(Activation('relu'))    # use relu\n",
    "    model.add(Dense(10))\n",
    "    model.add(Activation('softmax'))\n",
    "    \n",
    "    sgd = optimizers.SGD(lr = 0.001)\n",
    "    model.compile(optimizer = sgd, loss = 'categorical_crossentropy', metrics = ['accuracy'])\n",
    "    \n",
    "    return model"
   ]
  },
  {
   "cell_type": "code",
   "execution_count": 35,
   "metadata": {
    "ExecuteTime": {
     "end_time": "2020-01-21T02:32:45.284189Z",
     "start_time": "2020-01-21T02:32:23.361368Z"
    }
   },
   "outputs": [],
   "source": [
    "model = mlp_model()\n",
    "history = model.fit(X_train, y_train, validation_split = 0.3, epochs = 100, verbose = 0)"
   ]
  },
  {
   "cell_type": "code",
   "execution_count": 36,
   "metadata": {
    "ExecuteTime": {
     "end_time": "2020-01-21T02:32:45.452738Z",
     "start_time": "2020-01-21T02:32:45.285186Z"
    }
   },
   "outputs": [
    {
     "data": {
      "image/png": "[encoded data removed]",
      "text/plain": [
       "<Figure size 432x288 with 1 Axes>"
      ]
     },
     "metadata": {
      "needs_background": "light"
     },
     "output_type": "display_data"
    }
   ],
   "source": [
    "plt.plot(history.history['accuracy'])\n",
    "plt.plot(history.history['val_accuracy'])\n",
    "plt.legend(['training', 'validation'], loc = 'upper left')\n",
    "plt.show()\n",
    "#마지막 값이 아니라, 그 중에서 validation value 가장 좋았던 값을 저장."
   ]
  },
  {
   "cell_type": "code",
   "execution_count": 37,
   "metadata": {
    "ExecuteTime": {
     "end_time": "2020-01-21T02:34:05.140986Z",
     "start_time": "2020-01-21T02:34:04.929553Z"
    }
   },
   "outputs": [
    {
     "name": "stdout",
     "output_type": "stream",
     "text": [
      "10000/10000 [==============================] - 0s 21us/step\n"
     ]
    }
   ],
   "source": [
    "results = model.evaluate(X_test, y_test)"
   ]
  },
  {
   "cell_type": "code",
   "execution_count": 38,
   "metadata": {
    "ExecuteTime": {
     "end_time": "2020-01-21T02:34:05.167913Z",
     "start_time": "2020-01-21T02:34:05.162927Z"
    }
   },
   "outputs": [
    {
     "name": "stdout",
     "output_type": "stream",
     "text": [
      "Test accuracy:  0.886900007724762\n"
     ]
    }
   ],
   "source": [
    "print('Test accuracy: ', results[1])"
   ]
  },
  {
   "cell_type": "markdown",
   "metadata": {},
   "source": [
    "## Optimizers"
   ]
  },
  {
   "cell_type": "code",
   "execution_count": 39,
   "metadata": {
    "ExecuteTime": {
     "end_time": "2020-01-21T05:07:04.253919Z",
     "start_time": "2020-01-21T05:07:04.248890Z"
    }
   },
   "outputs": [],
   "source": [
    "def mlp_model():\n",
    "    model = Sequential()\n",
    "    \n",
    "    model.add(Dense(50, input_shape = (784, )))\n",
    "    model.add(Activation('sigmoid'))    \n",
    "    model.add(Dense(50))\n",
    "    model.add(Activation('sigmoid'))  \n",
    "    model.add(Dense(50))\n",
    "    model.add(Activation('sigmoid'))    \n",
    "    model.add(Dense(50))\n",
    "    model.add(Activation('sigmoid'))    \n",
    "    model.add(Dense(10))\n",
    "    model.add(Activation('softmax'))\n",
    "    \n",
    "    adam = optimizers.Adam(lr = 0.001)                     # use Adam optimizer\n",
    "    model.compile(optimizer = adam, loss = 'categorical_crossentropy', metrics = ['accuracy'])\n",
    "    \n",
    "    return model"
   ]
  },
  {
   "cell_type": "code",
   "execution_count": 40,
   "metadata": {
    "ExecuteTime": {
     "end_time": "2020-01-21T05:07:30.204466Z",
     "start_time": "2020-01-21T05:07:04.661321Z"
    }
   },
   "outputs": [],
   "source": [
    "model = mlp_model()\n",
    "history = model.fit(X_train, y_train, validation_split = 0.3, epochs = 100, verbose = 0)"
   ]
  },
  {
   "cell_type": "code",
   "execution_count": 41,
   "metadata": {
    "ExecuteTime": {
     "end_time": "2020-01-21T05:07:30.379068Z",
     "start_time": "2020-01-21T05:07:30.204466Z"
    }
   },
   "outputs": [
    {
     "data": {
      "image/png": "[encoded data removed]",
      "text/plain": [
       "<Figure size 432x288 with 1 Axes>"
      ]
     },
     "metadata": {
      "needs_background": "light"
     },
     "output_type": "display_data"
    }
   ],
   "source": [
    "plt.plot(history.history['accuracy'])\n",
    "plt.plot(history.history['val_accuracy'])\n",
    "plt.legend(['training', 'validation'], loc = 'upper left')\n",
    "plt.show()"
   ]
  },
  {
   "cell_type": "code",
   "execution_count": 42,
   "metadata": {
    "ExecuteTime": {
     "end_time": "2020-01-21T05:07:30.593495Z",
     "start_time": "2020-01-21T05:07:30.381064Z"
    }
   },
   "outputs": [
    {
     "name": "stdout",
     "output_type": "stream",
     "text": [
      "10000/10000 [==============================] - 0s 21us/step\n"
     ]
    }
   ],
   "source": [
    "results = model.evaluate(X_test, y_test)"
   ]
  },
  {
   "cell_type": "code",
   "execution_count": 43,
   "metadata": {
    "ExecuteTime": {
     "end_time": "2020-01-21T05:07:30.598482Z",
     "start_time": "2020-01-21T05:07:30.594492Z"
    }
   },
   "outputs": [
    {
     "name": "stdout",
     "output_type": "stream",
     "text": [
      "Test accuracy:  0.8895000219345093\n"
     ]
    }
   ],
   "source": [
    "print('Test accuracy: ', results[1])"
   ]
  },
  {
   "cell_type": "markdown",
   "metadata": {},
   "source": [
    "## Batch Normalization\n",
    "- 비선형 변환 전에 추가"
   ]
  },
  {
   "cell_type": "code",
   "execution_count": 44,
   "metadata": {
    "ExecuteTime": {
     "end_time": "2020-01-21T05:56:38.652626Z",
     "start_time": "2020-01-21T05:56:38.645681Z"
    }
   },
   "outputs": [],
   "source": [
    "def mlp_model():\n",
    "    model = Sequential()\n",
    "    \n",
    "    model.add(Dense(50, input_shape = (784, )))\n",
    "    model.add(BatchNormalization())       \n",
    "    model.add(Activation('sigmoid'))    \n",
    "    model.add(Dense(50))\n",
    "    model.add(BatchNormalization())       \n",
    "    model.add(Activation('sigmoid'))    \n",
    "    model.add(Dense(50))\n",
    "    model.add(BatchNormalization())       \n",
    "    model.add(Activation('sigmoid'))    \n",
    "    model.add(Dense(50))\n",
    "    model.add(BatchNormalization())       \n",
    "    model.add(Activation('sigmoid'))    \n",
    "    model.add(Dense(10))\n",
    "    model.add(Activation('softmax'))\n",
    "    \n",
    "    sgd = optimizers.SGD(lr = 0.001)\n",
    "    model.compile(optimizer = sgd, loss = 'categorical_crossentropy', metrics = ['accuracy'])\n",
    "    \n",
    "    return model"
   ]
  },
  {
   "cell_type": "code",
   "execution_count": 45,
   "metadata": {
    "ExecuteTime": {
     "end_time": "2020-01-21T05:57:25.603350Z",
     "start_time": "2020-01-21T05:56:39.297396Z"
    }
   },
   "outputs": [],
   "source": [
    "model = mlp_model()\n",
    "history = model.fit(X_train, y_train, validation_split = 0.3, epochs = 100, verbose = 0)"
   ]
  },
  {
   "cell_type": "code",
   "execution_count": 46,
   "metadata": {
    "ExecuteTime": {
     "end_time": "2020-01-21T05:57:25.795299Z",
     "start_time": "2020-01-21T05:57:25.603350Z"
    }
   },
   "outputs": [
    {
     "data": {
      "image/png": "[encoded data removed]",
      "text/plain": [
       "<Figure size 432x288 with 1 Axes>"
      ]
     },
     "metadata": {
      "needs_background": "light"
     },
     "output_type": "display_data"
    }
   ],
   "source": [
    "plt.plot(history.history['accuracy'])\n",
    "plt.plot(history.history['val_accuracy'])\n",
    "plt.legend(['training', 'validation'], loc = 'upper left')\n",
    "plt.show()"
   ]
  },
  {
   "cell_type": "code",
   "execution_count": 47,
   "metadata": {
    "ExecuteTime": {
     "end_time": "2020-01-21T05:57:26.095451Z",
     "start_time": "2020-01-21T05:57:25.796253Z"
    }
   },
   "outputs": [
    {
     "name": "stdout",
     "output_type": "stream",
     "text": [
      "10000/10000 [==============================] - 0s 29us/step\n"
     ]
    }
   ],
   "source": [
    "results = model.evaluate(X_test, y_test)"
   ]
  },
  {
   "cell_type": "code",
   "execution_count": 48,
   "metadata": {
    "ExecuteTime": {
     "end_time": "2020-01-21T05:57:26.101435Z",
     "start_time": "2020-01-21T05:57:26.097446Z"
    }
   },
   "outputs": [
    {
     "name": "stdout",
     "output_type": "stream",
     "text": [
      "Test accuracy:  0.8736000061035156\n"
     ]
    }
   ],
   "source": [
    "print('Test accuracy: ', results[1])"
   ]
  },
  {
   "cell_type": "markdown",
   "metadata": {},
   "source": [
    "## Dropout (Regularization)\n",
    "- 학습단계에서 랜덤으로 임의의 뉴런을 선택해 삭제하여 신호를 다음 계층으로 전달하지 않음.\n",
    "- 앙상블 컨셉임 ( 약한 분류기의 voting으로 강한 분류기! )"
   ]
  },
  {
   "cell_type": "code",
   "execution_count": 49,
   "metadata": {
    "ExecuteTime": {
     "end_time": "2020-01-21T05:57:29.319621Z",
     "start_time": "2020-01-21T05:57:29.313626Z"
    }
   },
   "outputs": [],
   "source": [
    "def mlp_model():\n",
    "    model = Sequential()\n",
    "    \n",
    "    model.add(Dense(50, input_shape = (784, )))\n",
    "    model.add(Activation('sigmoid'))    \n",
    "    model.add(Dropout(0.2))                        # Dropout layer after Activation\n",
    "    model.add(Dense(50))\n",
    "    model.add(Activation('sigmoid'))\n",
    "    model.add(Dropout(0.2))                        # Dropout layer after Activation\n",
    "    model.add(Dense(50))\n",
    "    model.add(Activation('sigmoid'))    \n",
    "    model.add(Dropout(0.2))                        # Dropout layer after Activation\n",
    "    model.add(Dense(50))\n",
    "    model.add(Activation('sigmoid'))    \n",
    "    model.add(Dropout(0.2))                         # Dropout layer after Activation\n",
    "    model.add(Dense(10))\n",
    "    model.add(Activation('softmax'))\n",
    "    \n",
    "    sgd = optimizers.SGD(lr = 0.001)\n",
    "    model.compile(optimizer = sgd, loss = 'categorical_crossentropy', metrics = ['accuracy'])\n",
    "    \n",
    "    return model"
   ]
  },
  {
   "cell_type": "code",
   "execution_count": 50,
   "metadata": {
    "ExecuteTime": {
     "end_time": "2020-01-21T05:57:59.985464Z",
     "start_time": "2020-01-21T05:57:30.001254Z"
    }
   },
   "outputs": [],
   "source": [
    "model = mlp_model()\n",
    "history = model.fit(X_train, y_train, validation_split = 0.3, epochs = 100, verbose = 0)"
   ]
  },
  {
   "cell_type": "code",
   "execution_count": 51,
   "metadata": {
    "ExecuteTime": {
     "end_time": "2020-01-21T05:58:00.270766Z",
     "start_time": "2020-01-21T05:57:59.987459Z"
    }
   },
   "outputs": [
    {
     "data": {
      "image/png": "[encoded data removed]",
      "text/plain": [
       "<Figure size 432x288 with 1 Axes>"
      ]
     },
     "metadata": {
      "needs_background": "light"
     },
     "output_type": "display_data"
    }
   ],
   "source": [
    "plt.plot(history.history['accuracy'])\n",
    "plt.plot(history.history['val_accuracy'])\n",
    "plt.legend(['training', 'validation'], loc = 'upper left')\n",
    "plt.show()\n",
    "# 학습시키고 dropout시켜서 training변화폭이 크다."
   ]
  },
  {
   "cell_type": "code",
   "execution_count": 52,
   "metadata": {
    "ExecuteTime": {
     "end_time": "2020-01-21T05:58:00.525831Z",
     "start_time": "2020-01-21T05:58:00.271705Z"
    }
   },
   "outputs": [
    {
     "name": "stdout",
     "output_type": "stream",
     "text": [
      "10000/10000 [==============================] - 0s 25us/step\n"
     ]
    }
   ],
   "source": [
    "results = model.evaluate(X_test, y_test)"
   ]
  },
  {
   "cell_type": "code",
   "execution_count": 53,
   "metadata": {
    "ExecuteTime": {
     "end_time": "2020-01-21T05:58:00.532813Z",
     "start_time": "2020-01-21T05:58:00.527826Z"
    }
   },
   "outputs": [
    {
     "name": "stdout",
     "output_type": "stream",
     "text": [
      "Test accuracy:  0.11349999904632568\n"
     ]
    }
   ],
   "source": [
    "print('Test accuracy: ', results[1])"
   ]
  },
  {
   "cell_type": "markdown",
   "metadata": {},
   "source": [
    "## Model Ensemble"
   ]
  },
  {
   "cell_type": "code",
   "execution_count": 54,
   "metadata": {
    "ExecuteTime": {
     "end_time": "2020-01-21T06:05:41.085248Z",
     "start_time": "2020-01-21T06:05:41.081218Z"
    }
   },
   "outputs": [],
   "source": [
    "y_train = np.argmax(y_train, axis = 1)\n",
    "y_test = np.argmax(y_test, axis = 1)"
   ]
  },
  {
   "cell_type": "code",
   "execution_count": 55,
   "metadata": {
    "ExecuteTime": {
     "end_time": "2020-01-21T06:05:41.512115Z",
     "start_time": "2020-01-21T06:05:41.505125Z"
    }
   },
   "outputs": [],
   "source": [
    "def mlp_model():\n",
    "    model = Sequential()\n",
    "    \n",
    "    model.add(Dense(50, input_shape = (784, )))\n",
    "    model.add(Activation('sigmoid'))    \n",
    "    model.add(Dense(50))\n",
    "    model.add(Activation('sigmoid'))    \n",
    "    model.add(Dense(50))\n",
    "    model.add(Activation('sigmoid'))    \n",
    "    model.add(Dense(50))\n",
    "    model.add(Activation('sigmoid'))    \n",
    "    model.add(Dense(10))\n",
    "    model.add(Activation('softmax'))\n",
    "    \n",
    "    sgd = optimizers.SGD(lr = 0.001)\n",
    "    model.compile(optimizer = sgd, loss = 'categorical_crossentropy', metrics = ['accuracy'])\n",
    "    \n",
    "    return model"
   ]
  },
  {
   "cell_type": "code",
   "execution_count": 56,
   "metadata": {
    "ExecuteTime": {
     "end_time": "2020-01-21T06:05:42.436804Z",
     "start_time": "2020-01-21T06:05:42.432740Z"
    }
   },
   "outputs": [],
   "source": [
    "model1 = KerasClassifier(build_fn = mlp_model, epochs = 100, verbose = 0)\n",
    "model2 = KerasClassifier(build_fn = mlp_model, epochs = 100, verbose = 0)\n",
    "model3 = KerasClassifier(build_fn = mlp_model, epochs = 100, verbose = 0)"
   ]
  },
  {
   "cell_type": "code",
   "execution_count": 57,
   "metadata": {
    "ExecuteTime": {
     "end_time": "2020-01-21T06:05:42.787800Z",
     "start_time": "2020-01-21T06:05:42.783810Z"
    }
   },
   "outputs": [],
   "source": [
    "ensemble_clf = VotingClassifier(estimators = [('model1', model1), ('model2', model2), ('model3', model3)], voting = 'soft')"
   ]
  },
  {
   "cell_type": "code",
   "execution_count": 58,
   "metadata": {
    "ExecuteTime": {
     "end_time": "2020-01-21T06:06:54.611621Z",
     "start_time": "2020-01-21T06:05:43.200829Z"
    }
   },
   "outputs": [
    {
     "data": {
      "text/plain": [
       "VotingClassifier(estimators=[('model1',\n",
       "                              <keras.wrappers.scikit_learn.KerasClassifier object at 0x000002167F8E6908>),\n",
       "                             ('model2',\n",
       "                              <keras.wrappers.scikit_learn.KerasClassifier object at 0x000002167F8E69C8>),\n",
       "                             ('model3',\n",
       "                              <keras.wrappers.scikit_learn.KerasClassifier object at 0x0000021619EDD788>)],\n",
       "                 flatten_transform=True, n_jobs=None, voting='soft',\n",
       "                 weights=None)"
      ]
     },
     "execution_count": 58,
     "metadata": {},
     "output_type": "execute_result"
    }
   ],
   "source": [
    "ensemble_clf.fit(X_train, y_train)"
   ]
  },
  {
   "cell_type": "code",
   "execution_count": 59,
   "metadata": {
    "ExecuteTime": {
     "end_time": "2020-01-21T06:06:55.303769Z",
     "start_time": "2020-01-21T06:06:54.613615Z"
    }
   },
   "outputs": [],
   "source": [
    "y_pred = ensemble_clf.predict(X_test)"
   ]
  },
  {
   "cell_type": "code",
   "execution_count": 60,
   "metadata": {
    "ExecuteTime": {
     "end_time": "2020-01-21T06:06:55.310750Z",
     "start_time": "2020-01-21T06:06:55.305763Z"
    }
   },
   "outputs": [
    {
     "name": "stdout",
     "output_type": "stream",
     "text": [
      "Test accuracy: 0.1135\n"
     ]
    }
   ],
   "source": [
    "print('Test accuracy:', accuracy_score(y_pred, y_test))"
   ]
  },
  {
   "cell_type": "markdown",
   "metadata": {},
   "source": [
    "## Advanced MLP - 2"
   ]
  },
  {
   "cell_type": "code",
   "execution_count": 62,
   "metadata": {
    "ExecuteTime": {
     "end_time": "2020-01-21T06:22:11.081632Z",
     "start_time": "2020-01-21T06:22:10.872134Z"
    }
   },
   "outputs": [
    {
     "name": "stdout",
     "output_type": "stream",
     "text": [
      "(60000, 784)\n",
      "(10000, 784)\n",
      "(60000,)\n",
      "(10000,)\n"
     ]
    }
   ],
   "source": [
    "(X_train, y_train), (X_test, y_test) = mnist.load_data()\n",
    "# reshaping X data: (n, 28, 28) => (n, 784)\n",
    "X_train = X_train.reshape((X_train.shape[0], X_train.shape[1] * X_train.shape[2]))\n",
    "X_test = X_test.reshape((X_test.shape[0], X_test.shape[1] * X_test.shape[2]))\n",
    "# We use all training data and validate on all test data\n",
    "print(X_train.shape)\n",
    "print(X_test.shape)\n",
    "print(y_train.shape)\n",
    "print(y_test.shape)"
   ]
  },
  {
   "cell_type": "code",
   "execution_count": 63,
   "metadata": {
    "ExecuteTime": {
     "end_time": "2020-01-21T06:22:11.290554Z",
     "start_time": "2020-01-21T06:22:11.279531Z"
    }
   },
   "outputs": [],
   "source": [
    "def mlp_model():\n",
    "    model = Sequential()\n",
    "    \n",
    "    model.add(Dense(50, input_shape = (784, ), kernel_initializer='he_normal'))\n",
    "    model.add(BatchNormalization())\n",
    "    model.add(Activation('relu'))\n",
    "    model.add(Dropout(0.2))\n",
    "    model.add(Dense(50, kernel_initializer='he_normal'))\n",
    "    model.add(BatchNormalization())\n",
    "    model.add(Activation('relu'))    \n",
    "    model.add(Dropout(0.2))\n",
    "    model.add(Dense(50, kernel_initializer='he_normal'))\n",
    "    model.add(BatchNormalization())\n",
    "    model.add(Activation('relu'))\n",
    "    model.add(Dropout(0.2))\n",
    "    model.add(Dense(50, kernel_initializer='he_normal'))\n",
    "    model.add(BatchNormalization())\n",
    "    model.add(Activation('relu'))\n",
    "    model.add(Dropout(0.2))\n",
    "    model.add(Dense(10, kernel_initializer='he_normal'))\n",
    "    model.add(Activation('softmax'))\n",
    "    \n",
    "    adam = optimizers.Adam(lr = 0.001)\n",
    "    model.compile(optimizer = adam, loss = 'categorical_crossentropy', metrics = ['accuracy'])\n",
    "    \n",
    "    return model"
   ]
  },
  {
   "cell_type": "code",
   "execution_count": 64,
   "metadata": {
    "ExecuteTime": {
     "end_time": "2020-01-21T06:22:11.987322Z",
     "start_time": "2020-01-21T06:22:11.982381Z"
    }
   },
   "outputs": [],
   "source": [
    "# create 5 models to ensemble\n",
    "from keras.callbacks import LambdaCallback\n",
    "from keras.callbacks import EarlyStopping\n",
    "from keras.layers import LeakyReLU\n",
    "\n",
    "\n",
    "def lambdaf_(epoch, logs, step) : \n",
    "    if epoch % step == 0 : print(f\"{epoch} => {logs}\")                \n",
    "        \n",
    "def printepoch(step) :   \n",
    "    return LambdaCallback(on_epoch_end=lambda epoch, logs: lambdaf_(epoch, logs, step)  )"
   ]
  },
  {
   "cell_type": "code",
   "execution_count": 65,
   "metadata": {
    "ExecuteTime": {
     "end_time": "2020-01-21T06:22:12.893295Z",
     "start_time": "2020-01-21T06:22:12.888188Z"
    }
   },
   "outputs": [],
   "source": [
    "model1 = KerasClassifier(build_fn = mlp_model, epochs = 100)\n",
    "model2 = KerasClassifier(build_fn = mlp_model, epochs = 100)\n",
    "model3 = KerasClassifier(build_fn = mlp_model, epochs = 100)\n",
    "model4 = KerasClassifier(build_fn = mlp_model, epochs = 100)\n",
    "model5 = KerasClassifier(build_fn = mlp_model, epochs = 5)"
   ]
  },
  {
   "cell_type": "code",
   "execution_count": 66,
   "metadata": {
    "ExecuteTime": {
     "end_time": "2020-01-21T06:22:13.763181Z",
     "start_time": "2020-01-21T06:22:13.759152Z"
    }
   },
   "outputs": [],
   "source": [
    "#ensemble_clf = VotingClassifier(estimators = [('model1', model1), ('model2', model2), ('model3', model3), ('model4', model4), ('model5', model5)], voting = 'soft')\n",
    "ensemble_clf = VotingClassifier(estimators = [('model1', model1), ('model2', model2)], voting = 'soft')"
   ]
  },
  {
   "cell_type": "code",
   "execution_count": null,
   "metadata": {
    "ExecuteTime": {
     "start_time": "2020-01-21T06:22:14.694Z"
    }
   },
   "outputs": [
    {
     "name": "stdout",
     "output_type": "stream",
     "text": [
      "Epoch 1/100\n",
      "60000/60000 [==============================] - 8s 132us/step - loss: 0.7494 - accuracy: 0.7715\n",
      "Epoch 2/100\n",
      "60000/60000 [==============================] - 6s 107us/step - loss: 0.4363 - accuracy: 0.8738\n",
      "Epoch 3/100\n",
      "60000/60000 [==============================] - 6s 108us/step - loss: 0.3640 - accuracy: 0.8957\n",
      "Epoch 4/100\n",
      "60000/60000 [==============================] - 7s 109us/step - loss: 0.3222 - accuracy: 0.9071\n",
      "Epoch 5/100\n",
      "60000/60000 [==============================] - 7s 109us/step - loss: 0.2988 - accuracy: 0.9138\n",
      "Epoch 6/100\n",
      "60000/60000 [==============================] - 7s 110us/step - loss: 0.2803 - accuracy: 0.9197\n",
      "Epoch 7/100\n",
      "60000/60000 [==============================] - 7s 113us/step - loss: 0.2690 - accuracy: 0.9241\n",
      "Epoch 8/100\n",
      "60000/60000 [==============================] - 7s 120us/step - loss: 0.2532 - accuracy: 0.9274\n",
      "Epoch 9/100\n",
      "60000/60000 [==============================] - 7s 121us/step - loss: 0.2450 - accuracy: 0.9301\n",
      "Epoch 10/100\n",
      "60000/60000 [==============================] - 7s 121us/step - loss: 0.2401 - accuracy: 0.9309\n",
      "Epoch 11/100\n",
      "60000/60000 [==============================] - 7s 122us/step - loss: 0.2314 - accuracy: 0.9333\n",
      "Epoch 12/100\n",
      "60000/60000 [==============================] - 7s 124us/step - loss: 0.2271 - accuracy: 0.9350\n",
      "Epoch 13/100\n",
      "60000/60000 [==============================] - 8s 126us/step - loss: 0.2242 - accuracy: 0.9359\n",
      "Epoch 14/100\n",
      "60000/60000 [==============================] - 8s 127us/step - loss: 0.2158 - accuracy: 0.9380\n",
      "Epoch 15/100\n",
      "60000/60000 [==============================] - 8s 128us/step - loss: 0.2164 - accuracy: 0.9375\n",
      "Epoch 16/100\n",
      "60000/60000 [==============================] - 8s 131us/step - loss: 0.2077 - accuracy: 0.9413\n",
      "Epoch 17/100\n",
      "60000/60000 [==============================] - 8s 131us/step - loss: 0.2076 - accuracy: 0.9401\n",
      "Epoch 18/100\n",
      "60000/60000 [==============================] - 8s 132us/step - loss: 0.2045 - accuracy: 0.9406\n",
      "Epoch 19/100\n",
      "60000/60000 [==============================] - 8s 133us/step - loss: 0.2018 - accuracy: 0.9431\n",
      "Epoch 20/100\n",
      "60000/60000 [==============================] - 8s 136us/step - loss: 0.1993 - accuracy: 0.9424\n",
      "Epoch 21/100\n",
      "60000/60000 [==============================] - 8s 137us/step - loss: 0.1931 - accuracy: 0.9439\n",
      "Epoch 22/100\n",
      "60000/60000 [==============================] - 8s 139us/step - loss: 0.2001 - accuracy: 0.9427\n",
      "Epoch 23/100\n",
      "60000/60000 [==============================] - 8s 141us/step - loss: 0.1912 - accuracy: 0.9442\n",
      "Epoch 24/100\n",
      "60000/60000 [==============================] - 9s 143us/step - loss: 0.1874 - accuracy: 0.9455\n",
      "Epoch 25/100\n",
      "60000/60000 [==============================] - 9s 145us/step - loss: 0.1880 - accuracy: 0.9451\n",
      "Epoch 26/100\n",
      "60000/60000 [==============================] - 9s 148us/step - loss: 0.1878 - accuracy: 0.9454\n",
      "Epoch 27/100\n",
      "60000/60000 [==============================] - 9s 150us/step - loss: 0.1835 - accuracy: 0.9469\n",
      "Epoch 28/100\n",
      "60000/60000 [==============================] - 9s 152us/step - loss: 0.1877 - accuracy: 0.9466\n",
      "Epoch 29/100\n",
      "60000/60000 [==============================] - 9s 156us/step - loss: 0.1841 - accuracy: 0.9472\n",
      "Epoch 30/100\n",
      "60000/60000 [==============================] - 9s 156us/step - loss: 0.1770 - accuracy: 0.9487\n",
      "Epoch 31/100\n",
      "60000/60000 [==============================] - 10s 160us/step - loss: 0.1823 - accuracy: 0.9471\n",
      "Epoch 32/100\n",
      "60000/60000 [==============================] - 10s 162us/step - loss: 0.1808 - accuracy: 0.9482\n",
      "Epoch 33/100\n",
      "60000/60000 [==============================] - 10s 167us/step - loss: 0.1757 - accuracy: 0.9490\n",
      "Epoch 34/100\n",
      "60000/60000 [==============================] - 10s 169us/step - loss: 0.1771 - accuracy: 0.9492\n",
      "Epoch 35/100\n",
      "60000/60000 [==============================] - 10s 174us/step - loss: 0.1753 - accuracy: 0.9497\n",
      "Epoch 36/100\n",
      "60000/60000 [==============================] - 11s 178us/step - loss: 0.1672 - accuracy: 0.9515\n",
      "Epoch 37/100\n",
      "60000/60000 [==============================] - 11s 181us/step - loss: 0.1756 - accuracy: 0.9498\n",
      "Epoch 38/100\n",
      "60000/60000 [==============================] - 11s 189us/step - loss: 0.1691 - accuracy: 0.9510\n",
      "Epoch 39/100\n",
      "60000/60000 [==============================] - 11s 190us/step - loss: 0.1740 - accuracy: 0.9489\n",
      "Epoch 40/100\n",
      "60000/60000 [==============================] - 11s 189us/step - loss: 0.1718 - accuracy: 0.9495\n",
      "Epoch 41/100\n",
      "60000/60000 [==============================] - 12s 196us/step - loss: 0.1650 - accuracy: 0.9525\n",
      "Epoch 42/100\n",
      "60000/60000 [==============================] - 12s 204us/step - loss: 0.1678 - accuracy: 0.9509\n",
      "Epoch 43/100\n",
      "60000/60000 [==============================] - 12s 204us/step - loss: 0.1670 - accuracy: 0.9520\n",
      "Epoch 44/100\n",
      "60000/60000 [==============================] - 13s 221us/step - loss: 0.1621 - accuracy: 0.9525\n",
      "Epoch 45/100\n",
      "60000/60000 [==============================] - 13s 220us/step - loss: 0.1650 - accuracy: 0.9514\n",
      "Epoch 46/100\n",
      "60000/60000 [==============================] - 13s 221us/step - loss: 0.1688 - accuracy: 0.9511\n",
      "Epoch 47/100\n",
      "60000/60000 [==============================] - 13s 224us/step - loss: 0.1650 - accuracy: 0.9532\n",
      "Epoch 48/100\n",
      "60000/60000 [==============================] - 14s 230us/step - loss: 0.1619 - accuracy: 0.9529\n",
      "Epoch 49/100\n",
      "60000/60000 [==============================] - 14s 236us/step - loss: 0.1617 - accuracy: 0.9537\n",
      "Epoch 50/100\n",
      "60000/60000 [==============================] - 14s 239us/step - loss: 0.1619 - accuracy: 0.9530\n",
      "Epoch 51/100\n",
      "60000/60000 [==============================] - 15s 244us/step - loss: 0.1608 - accuracy: 0.9532\n",
      "Epoch 52/100\n",
      "60000/60000 [==============================] - 15s 250us/step - loss: 0.1603 - accuracy: 0.9534\n",
      "Epoch 53/100\n",
      "60000/60000 [==============================] - 15s 253us/step - loss: 0.1620 - accuracy: 0.9537\n",
      "Epoch 54/100\n",
      "60000/60000 [==============================] - 16s 260us/step - loss: 0.1572 - accuracy: 0.9538\n",
      "Epoch 55/100\n",
      "60000/60000 [==============================] - 16s 264us/step - loss: 0.1595 - accuracy: 0.9537\n",
      "Epoch 56/100\n",
      "60000/60000 [==============================] - 17s 279us/step - loss: 0.1559 - accuracy: 0.9547\n",
      "Epoch 57/100\n",
      "60000/60000 [==============================] - 17s 282us/step - loss: 0.1597 - accuracy: 0.9538\n",
      "Epoch 58/100\n",
      "60000/60000 [==============================] - 18s 292us/step - loss: 0.1560 - accuracy: 0.9552\n",
      "Epoch 59/100\n",
      "60000/60000 [==============================] - 18s 298us/step - loss: 0.1606 - accuracy: 0.9531s - loss:\n",
      "Epoch 60/100\n",
      "60000/60000 [==============================] - 18s 303us/step - loss: 0.1591 - accuracy: 0.9533\n",
      "Epoch 61/100\n",
      "60000/60000 [==============================] - 19s 309us/step - loss: 0.1557 - accuracy: 0.9543\n",
      "Epoch 62/100\n",
      "60000/60000 [==============================] - 19s 321us/step - loss: 0.1563 - accuracy: 0.9550\n",
      "Epoch 63/100\n",
      "60000/60000 [==============================] - 20s 334us/step - loss: 0.1568 - accuracy: 0.9547\n",
      "Epoch 64/100\n",
      "60000/60000 [==============================] - 20s 330us/step - loss: 0.1515 - accuracy: 0.9558\n",
      "Epoch 65/100\n",
      "60000/60000 [==============================] - 20s 341us/step - loss: 0.1514 - accuracy: 0.9558\n",
      "Epoch 66/100\n",
      "60000/60000 [==============================] - 21s 348us/step - loss: 0.1586 - accuracy: 0.9541\n",
      "Epoch 67/100\n",
      "60000/60000 [==============================] - 21s 350us/step - loss: 0.1468 - accuracy: 0.9573\n",
      "Epoch 68/100\n",
      "60000/60000 [==============================] - 21s 358us/step - loss: 0.1488 - accuracy: 0.9557\n",
      "Epoch 69/100\n",
      "60000/60000 [==============================] - 22s 367us/step - loss: 0.1500 - accuracy: 0.9556s -\n",
      "Epoch 70/100\n",
      "60000/60000 [==============================] - 22s 370us/step - loss: 0.1536 - accuracy: 0.9555\n",
      "Epoch 71/100\n",
      "60000/60000 [==============================] - 23s 380us/step - loss: 0.1508 - accuracy: 0.9561\n",
      "Epoch 72/100\n",
      "60000/60000 [==============================] - 24s 402us/step - loss: 0.1530 - accuracy: 0.9548\n",
      "Epoch 73/100\n",
      "60000/60000 [==============================] - 24s 403us/step - loss: 0.1510 - accuracy: 0.9560\n",
      "Epoch 74/100\n",
      "60000/60000 [==============================] - 25s 420us/step - loss: 0.1508 - accuracy: 0.9562\n",
      "Epoch 75/100\n",
      "60000/60000 [==============================] - 25s 423us/step - loss: 0.1542 - accuracy: 0.9545\n",
      "Epoch 76/100\n",
      "60000/60000 [==============================] - 26s 429us/step - loss: 0.1498 - accuracy: 0.9570\n",
      "Epoch 77/100\n",
      "60000/60000 [==============================] - 27s 451us/step - loss: 0.1475 - accuracy: 0.9568\n",
      "Epoch 78/100\n",
      "60000/60000 [==============================] - 27s 449us/step - loss: 0.1462 - accuracy: 0.9570s - loss: 0.1467 - \n",
      "Epoch 79/100\n",
      "60000/60000 [==============================] - 27s 457us/step - loss: 0.1491 - accuracy: 0.9568\n",
      "Epoch 80/100\n",
      "60000/60000 [==============================] - 30s 493us/step - loss: 0.1468 - accuracy: 0.9569\n",
      "Epoch 81/100\n",
      "60000/60000 [==============================] - 30s 492us/step - loss: 0.1464 - accuracy: 0.9568s - loss: 0.1465 - accuracy: 0.95\n",
      "Epoch 82/100\n",
      "60000/60000 [==============================] - 30s 506us/step - loss: 0.1470 - accuracy: 0.9576\n",
      "Epoch 83/100\n",
      "60000/60000 [==============================] - 31s 518us/step - loss: 0.1457 - accuracy: 0.9572s - loss: 0.145\n",
      "Epoch 84/100\n",
      "60000/60000 [==============================] - 31s 524us/step - loss: 0.1429 - accuracy: 0.9581\n",
      "Epoch 85/100\n",
      "60000/60000 [==============================] - 32s 539us/step - loss: 0.1480 - accuracy: 0.9570\n",
      "Epoch 86/100\n",
      "60000/60000 [==============================] - 33s 543us/step - loss: 0.1466 - accuracy: 0.9568\n",
      "Epoch 87/100\n",
      "60000/60000 [==============================] - 34s 561us/step - loss: 0.1439 - accuracy: 0.9574s - loss: 0.1429 - accuracy - ETA: 1s - loss: 0.1428 - accuracy - ETA: 1s - loss: 0.1429 - accura -\n",
      "Epoch 88/100\n",
      "60000/60000 [==============================] - 35s 581us/step - loss: 0.1434 - accuracy: 0.9586\n",
      "Epoch 89/100\n",
      "60000/60000 [==============================] - 35s 579us/step - loss: 0.1434 - accuracy: 0.9582 0s - loss: 0.1434 - accuracy: 0.95\n",
      "Epoch 90/100\n",
      "60000/60000 [==============================] - 36s 594us/step - loss: 0.1449 - accuracy: 0.9577\n",
      "Epoch 91/100\n",
      "60000/60000 [==============================] - 38s 636us/step - loss: 0.1438 - accuracy: 0.9580s - loss: 0.1434 - accura\n",
      "Epoch 92/100\n",
      "60000/60000 [==============================] - 38s 628us/step - loss: 0.1484 - accuracy: 0.9566s - loss: 0.1 - E\n",
      "Epoch 93/100\n",
      "60000/60000 [==============================] - 38s 640us/step - loss: 0.1416 - accuracy: 0.9584 23s - loss: 0.1378 - accu - ETA: 14s - loss: 0.13 - ETA: 9s - loss: 0 - ETA: 8s - loss: 0.1396 -  - ETA: 8s - loss: 0.1394  - - ETA: 6s - ETA: 5s - loss: 0.1399 - accuracy: 0.95 - ETA: 5s - loss: 0 - ETA: \n",
      "Epoch 94/100\n",
      "60000/60000 [==============================] - 39s 655us/step - loss: 0.1447 - accuracy: 0.95797s - l\n",
      "Epoch 95/100\n",
      "60000/60000 [==============================] - 40s 674us/step - loss: 0.1438 - accuracy: 0.9585 ETA: 6s - loss: 0.1415 - accu - ETA: 6s - loss: 0.141 - E - ETA: 0s - loss: 0.143 - ETA: 0s - loss: 0.1439 - accuracy: 0.95 - ETA: 0s - loss: 0.1439 - accuracy: 0.95\n",
      "Epoch 96/100\n",
      "60000/60000 [==============================] - 40s 658us/step - loss: 0.1421 - accuracy: 0.9586 38s - loss: 0.1480 - accuracy: 0.962 - ETA: 38s - loss - ETA: 36s - loss: 0.1426 - accuracy: 0.960\n",
      "Epoch 97/100\n",
      "60000/60000 [==============================] - 41s 683us/step - loss: 0.1429 - accuracy: 0.9581 21s - loss:  -\n",
      "Epoch 98/100\n",
      "60000/60000 [==============================] - 42s 699us/step - loss: 0.1427 - accuracy: 0.9596s - loss: 0.1\n",
      "Epoch 99/100\n",
      "60000/60000 [==============================] - 42s 696us/step - loss: 0.1463 - accuracy: 0.9576 0s - loss: 0.1460 - \n",
      "Epoch 100/100\n",
      "60000/60000 [==============================] - 43s 721us/step - loss: 0.1442 - accuracy: 0.9584TA:  - ETA: 2s - loss: 0.1452  - ETA: 1s - loss: 0.1 - ETA: 1s - ETA: 0s - loss: 0.1442 - accuracy: 0.95\n",
      "Epoch 1/100\n",
      "60000/60000 [==============================] - 51s 856us/step - loss: 0.7548 - accuracy: 0.7684\n",
      "Epoch 2/100\n",
      "60000/60000 [==============================] - 46s 774us/step - loss: 0.4298 - accuracy: 0.8765 3 - ETA: 32s - loss: 0.4744 - ETA: 31s - loss: 0.4714 - ETA: 30s - loss: 0.4641 -  - ETA: 29s - loss: 0.4638 - accurac  - ETA: 25s - loss: 0.4580 - accuracy: 0.86 - - ETA: 23s - ETA: 20s - loss: 0. - ETA: 19s - loss: - ETA: 15s - loss: 0.4431 - accuracy: 0.87 - ETA: 15s - loss: 0.4429 - accuracy:\n",
      "Epoch 3/100\n",
      "60000/60000 [==============================] - 49s 814us/step - loss: 0.3583 - accuracy: 0.8977\n",
      "Epoch 4/100\n",
      "60000/60000 [==============================] - 49s 815us/step - loss: 0.3213 - accuracy: 0.9091s - loss: 0.322 - ETA: 0s - loss: 0.3 - ETA: 0s - loss: 0.3216 - accura\n",
      "Epoch 5/100\n",
      "60000/60000 [==============================] - 50s 838us/step - loss: 0.2984 - accuracy: 0.9145\n",
      "Epoch 6/100\n",
      "60000/60000 [==============================] - 52s 863us/step - loss: 0.2831 - accuracy: 0.9191 32s - lo - ETA: 26s - loss: 0.2 - ETA: 22s - loss: 0.2882 - - ETA: 21s - loss: 0.2863 - accuracy - ETA: 21s - loss: 0.2 - ETA: 20s - loss: 0.2883 - accuracy - ETA: 14s - loss: 0.2837 - accuracy: 0.918 - ETA: -\n",
      "Epoch 7/100\n",
      "60000/60000 [==============================] - 52s 861us/step - loss: 0.2649 - accuracy: 0.9250\n",
      "Epoch 8/100\n",
      "60000/60000 [==============================] - 54s 897us/step - loss: 0.2592 - accuracy: 0.9254 56s - loss: 0.2941 - ETA: 52s - loss: 0.2990 - ac - ETA: 51s - ETA: 49s - loss: - ETA: 40s - loss: 0.2513 - accuracy: 0.9 - ETA: 40s - loss:  - ETA: 38s - loss: 0.2529 - accuracy: 0.927 - ETA: 38s - loss: 0.2530 - accuracy: 0.927 - ETA: 38s - loss: 0.2531 - accuracy - ETA: 38s - loss: 0.2531 - accuracy: 0. - ETA: 38s - loss: 0.2530 - accuracy: 0. - ETA: 37s - lo - ETA: 1s - loss: 0.2591 - accuracy - ETA: \n",
      "Epoch 9/100\n",
      "60000/60000 [==============================] - 54s 897us/step - loss: 0.2486 - accuracy: 0.9284 52s - loss: 0.2682 - accuracy:  - ETA: - ETA: 47s - loss: 0.2602 - accura - ETA: 42s  - ETA: 39s - loss: 0.2546 - accuracy: - ETA: 39s - loss: 0.2550 - accu - ETA: 38s - loss: 0.2558 - accurac - ETA: 38s - loss: 0.2569 - accuracy: 0.9 - ETA: 37s - loss: 0.2563 - accuracy: 0.925 - ETA: 37s - loss: 0.2561 - accuracy:  - ETA: 37s - loss: 0.2576 - accuracy: 0.924 - ETA: - ETA: 35s - loss: 0.2575 - accuracy: 0.9 - ETA: 35s - loss: 0.2569 - accuracy: 0.925 - ETA: 35s - loss: 0.2565 - accuracy: - ETA: 34s - loss: 0.2552 - accuracy: 0.9 - ETA: 34s - loss: 0.2546 - accuracy: 0. - ETA: 34s - loss: 0.2536 - accuracy: 0.926 - ETA: 34s - loss: 0.2533 - accuracy: 0.9 - ETA: 34s - lo - ETA: 30s - loss: 0.2516 - accuracy - ETA: 29s - loss: 0 - ETA: 25s - loss: 0.2531 - accur - ETA: 25s - loss: 0.2524 - accuracy: 0.9 - ETA: -  - ETA: 12s - loss: 0.2466 - accuracy: 0.92 - ETA: 12s - loss: 0.2472 - accuracy:  - ETA: 11s - los - ETA: 6s - loss: 0.2487 - accuracy - ETA: 5s - loss: 0.2490 - accuracy:  - ETA: 5s - loss: 0.2492 - accuracy: 0.92 - ETA: 5s - loss: 0 - ETA: 5s - loss: 0.2 - E - ETA: 2s - loss: 0.2484 - accuracy - ETA: 1s - loss: 0.2484  - ETA: 1s - loss: 0.2482 - accuracy: 0.92 -\n",
      "Epoch 10/100\n",
      "24096/60000 [===========>..................] - ETA: 33s - loss: 0.2394 - accuracy: 0.9306- ETA: 53s - loss: 0.2208 - ac - ETA: 46s - loss: 0.2413 - accuracy: 0.931 - ETA: - ETA: 43s - loss: 0.2390 - accuracy: 0 - ETA: 43s - loss: 0.2407 - accuracy: 0. - ETA: 42s - loss: 0.2409 - accuracy: 0.931 - ETA: 42s - loss: 0.2405 - accuracy: 0.931 - ETA: 42s - loss: 0.2402 - accuracy: 0 - ETA: 42s - loss: 0.2393 - accuracy: 0.93 - ETA: 39s - loss: 0.24 - ETA: 38s - loss: 0.2394 - accuracy: 0.930 - ETA: 38s - loss: 0.2400 - accurac - ETA: 37s - loss: 0.2405 - a - ETA: 36s - l - ETA: 35s - loss: 0.2405 - accuracy: 0.9 - ETA: 34s - loss: 0.2410 - accuracy: 0.929 - ETA: 34s - loss: 0.2414 - accuracy: 0.9 - ETA: 34s - loss: 0.2404 - accuracy: 0.93 - ETA: 34s - loss: 0.2403 - accuracy: - ETA: 34s - loss: 0.2395 - accuracy: 0.9 - ETA: 33s - loss: 0.2394 - accurac - ETA: 33s - loss: 0.2396 - accuracy: 0.9305"
     ]
    }
   ],
   "source": [
    "ensemble_clf.fit(X_train, y_train)"
   ]
  },
  {
   "cell_type": "code",
   "execution_count": null,
   "metadata": {
    "ExecuteTime": {
     "start_time": "2020-01-21T06:22:14.964Z"
    }
   },
   "outputs": [],
   "source": [
    "y_pred = ensemble_clf.predict(X_test)"
   ]
  },
  {
   "cell_type": "code",
   "execution_count": null,
   "metadata": {
    "ExecuteTime": {
     "start_time": "2020-01-21T06:22:15.301Z"
    }
   },
   "outputs": [],
   "source": [
    "print('Acc: ', accuracy_score(y_pred, y_test))"
   ]
  },
  {
   "cell_type": "code",
   "execution_count": null,
   "metadata": {},
   "outputs": [],
   "source": []
  }
 ],
 "metadata": {
  "kernelspec": {
   "display_name": "Python 3",
   "language": "python",
   "name": "python3"
  },
  "language_info": {
   "codemirror_mode": {
    "name": "ipython",
    "version": 3
   },
   "file_extension": ".py",
   "mimetype": "text/x-python",
   "name": "python",
   "nbconvert_exporter": "python",
   "pygments_lexer": "ipython3",
   "version": "3.7.4"
  }
 },
 "nbformat": 4,
 "nbformat_minor": 2
}
