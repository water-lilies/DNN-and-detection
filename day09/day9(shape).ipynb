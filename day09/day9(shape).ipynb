{
 "cells": [
  {
   "cell_type": "markdown",
   "metadata": {},
   "source": [
    "> ## 2020.01.22 수요일"
   ]
  },
  {
   "cell_type": "code",
   "execution_count": 61,
   "metadata": {
    "ExecuteTime": {
     "end_time": "2020-01-22T05:38:55.169719Z",
     "start_time": "2020-01-22T05:38:55.164739Z"
    }
   },
   "outputs": [],
   "source": [
    "import numpy as np\n",
    "import tensorflow as tf\n",
    "from matplotlib import pyplot as plt\n",
    "from keras.models import Sequential\n",
    "from keras.layers import Dense\n",
    "from keras.layers import Flatten\n",
    "from keras.layers.convolutional import Conv2D\n",
    "from keras.layers.convolutional import MaxPooling2D\n",
    "from keras.models import Sequential\n",
    "from keras.layers import Activation, Dense\n",
    "from keras import optimizers\n",
    "from keras.layers import BatchNormalization\n",
    "from keras.layers import Dropout\n",
    "from keras.utils.np_utils import to_categorical\n",
    "from keras.layers import BatchNormalization, Dropout\n",
    "import cv2"
   ]
  },
  {
   "cell_type": "code",
   "execution_count": 62,
   "metadata": {
    "ExecuteTime": {
     "end_time": "2020-01-22T05:38:55.916609Z",
     "start_time": "2020-01-22T05:38:55.899520Z"
    }
   },
   "outputs": [],
   "source": [
    "X_train = np.zeros((15*3, 24,24))\n",
    "y_train = np.zeros(15*3)\n",
    "\n",
    "for i in range(15) :    \n",
    "    img = cv2.imread('hard_handwriting_shape/train/circle/circle{0:03d}.png'.format(i+1), 0)        \n",
    "    X_train[i,:,:] = img\n",
    "    y_train[i] = 0\n",
    "    \n",
    "for i in range(15) :    \n",
    "    img = cv2.imread('hard_handwriting_shape/train/rectangle/rectangle{0:03d}.png'.format(i+1), 0)        \n",
    "    X_train[15+i,:,:] = img\n",
    "    y_train[15+i] = 1\n",
    "    \n",
    "for i in range(15) :    \n",
    "    img = cv2.imread('hard_handwriting_shape/train/triangle/triangle{0:03d}.png'.format(i+1), 0)        \n",
    "    X_train[30+i,:,:] = img\n",
    "    y_train[30+i] = 2    "
   ]
  },
  {
   "cell_type": "code",
   "execution_count": 63,
   "metadata": {
    "ExecuteTime": {
     "end_time": "2020-01-22T05:38:56.523247Z",
     "start_time": "2020-01-22T05:38:56.507379Z"
    }
   },
   "outputs": [],
   "source": [
    "X_test = np.zeros((5*3, 24,24))\n",
    "y_test = np.zeros(5*3)\n",
    "\n",
    "for i in range(5) :    \n",
    "    img = cv2.imread('hard_handwriting_shape/test_easy/circle/circle{0:03d}.png'.format(i+16), 0)        \n",
    "    X_test[i,:,:] = img\n",
    "    y_test[i] = 0\n",
    "    \n",
    "for i in range(5) :    \n",
    "    img = cv2.imread('hard_handwriting_shape/test_easy/rectangle/rectangle{0:03d}.png'.format(i+16), 0)        \n",
    "    X_test[5+i,:,:] = img\n",
    "    y_test[5+i] = 1\n",
    "    \n",
    "for i in range(5) :    \n",
    "    img = cv2.imread('hard_handwriting_shape/test_easy/triangle/triangle{0:03d}.png'.format(i+16), 0)        \n",
    "    X_test[10+i,:,:] = img\n",
    "    y_test[10+i] = 2"
   ]
  },
  {
   "cell_type": "code",
   "execution_count": 64,
   "metadata": {
    "ExecuteTime": {
     "end_time": "2020-01-22T05:38:57.134161Z",
     "start_time": "2020-01-22T05:38:57.052262Z"
    }
   },
   "outputs": [
    {
     "data": {
      "image/png": "[encoded data removed]",
      "text/plain": [
       "<Figure size 432x288 with 1 Axes>"
      ]
     },
     "metadata": {
      "needs_background": "light"
     },
     "output_type": "display_data"
    },
    {
     "name": "stdout",
     "output_type": "stream",
     "text": [
      "Label:  2.0\n"
     ]
    }
   ],
   "source": [
    "plt.imshow(X_test[14], cmap=\"gray\")    # show first number in the dataset\n",
    "plt.show()\n",
    "print('Label: ', y_test[14])"
   ]
  },
  {
   "cell_type": "code",
   "execution_count": 65,
   "metadata": {
    "ExecuteTime": {
     "end_time": "2020-01-22T05:38:59.119649Z",
     "start_time": "2020-01-22T05:38:59.116644Z"
    }
   },
   "outputs": [
    {
     "name": "stdout",
     "output_type": "stream",
     "text": [
      "(45, 24, 24) (15, 24, 24) (45, 3) (15, 3)\n"
     ]
    }
   ],
   "source": [
    "y_train = to_categorical(y_train)\n",
    "y_test = to_categorical(y_test)\n",
    "print(X_train.shape, X_test.shape, y_train.shape, y_test.shape)"
   ]
  },
  {
   "cell_type": "code",
   "execution_count": 66,
   "metadata": {
    "ExecuteTime": {
     "end_time": "2020-01-22T05:38:59.643016Z",
     "start_time": "2020-01-22T05:38:59.628399Z"
    }
   },
   "outputs": [
    {
     "name": "stdout",
     "output_type": "stream",
     "text": [
      "(45, 24, 24, 1)\n",
      "(15, 24, 24, 1)\n",
      "(45, 3)\n",
      "(15, 3)\n"
     ]
    }
   ],
   "source": [
    "# 4차원으로 변경\n",
    "X_train =  X_train.reshape(-1, 24,24,1)\n",
    "X_test =  X_test.reshape(-1, 24,24,1)\n",
    "print(X_train.shape)\n",
    "print(X_test.shape)\n",
    "print(y_train.shape)\n",
    "print(y_test.shape)"
   ]
  },
  {
   "cell_type": "code",
   "execution_count": 67,
   "metadata": {
    "ExecuteTime": {
     "end_time": "2020-01-22T05:39:00.860852Z",
     "start_time": "2020-01-22T05:39:00.779336Z"
    }
   },
   "outputs": [
    {
     "data": {
      "image/png": "[encoded data removed]",
      "text/plain": [
       "<Figure size 432x288 with 1 Axes>"
      ]
     },
     "metadata": {
      "needs_background": "light"
     },
     "output_type": "display_data"
    }
   ],
   "source": [
    "plt.imshow(X_train[2,:,:,0], cmap=\"gray\")  \n",
    "plt.show()"
   ]
  },
  {
   "cell_type": "code",
   "execution_count": 68,
   "metadata": {
    "ExecuteTime": {
     "end_time": "2020-01-22T05:39:01.537317Z",
     "start_time": "2020-01-22T05:39:01.323980Z"
    }
   },
   "outputs": [],
   "source": [
    "# 모델 구성하기\n",
    "model = Sequential()\n",
    "model.add(Conv2D(32, kernel_size=(3, 3),input_shape=(24,24,1)))\n",
    "            #kernel_size=(5,5)이면 커널사이즈의 반만큼 양쪽으로 없어진다(?)\n",
    "model.add(BatchNormalization())\n",
    "model.add(Activation('relu'))\n",
    "model.add(MaxPooling2D(pool_size=(2, 2)))  \n",
    "    \n",
    "model.add(Conv2D(64, (3, 3))) \n",
    "model.add(BatchNormalization())\n",
    "model.add(Activation('relu'))\n",
    "model.add(MaxPooling2D(pool_size=(2, 2)))\n",
    "\n",
    "model.add(Flatten())\n",
    "\n",
    "model.add(Dense(128))                     \n",
    "model.add(BatchNormalization())\n",
    "model.add(Activation('relu'))\n",
    "\n",
    "model.add(Dense(64)) \n",
    "model.add(BatchNormalization())\n",
    "model.add(Activation('relu'))\n",
    "\n",
    "model.add(Dense(3, activation='softmax'))\n",
    "\n",
    "# 모델 엮기\n",
    "model.compile(loss='categorical_crossentropy', \n",
    "              optimizer='adam', metrics=['accuracy'])"
   ]
  },
  {
   "cell_type": "code",
   "execution_count": 69,
   "metadata": {
    "ExecuteTime": {
     "end_time": "2020-01-22T05:39:09.728502Z",
     "start_time": "2020-01-22T05:39:03.356911Z"
    }
   },
   "outputs": [],
   "source": [
    "# 모델 학습시키기 #1\n",
    "history = model.fit(X_train, y_train, batch_size = 100, epochs = 100, \n",
    "                    validation_data =(X_test, y_test), verbose = 0)"
   ]
  },
  {
   "cell_type": "code",
   "execution_count": 70,
   "metadata": {
    "ExecuteTime": {
     "end_time": "2020-01-22T05:39:13.371437Z",
     "start_time": "2020-01-22T05:39:13.267113Z"
    }
   },
   "outputs": [
    {
     "data": {
      "image/png": "[encoded data removed]",
      "text/plain": [
       "<Figure size 432x288 with 1 Axes>"
      ]
     },
     "metadata": {
      "needs_background": "light"
     },
     "output_type": "display_data"
    },
    {
     "name": "stdout",
     "output_type": "stream",
     "text": [
      "15/15 [==============================] - 0s 774us/step\n",
      "[0.35473793745040894, 0.9333333373069763]\n"
     ]
    }
   ],
   "source": [
    "plt.plot(history.history['accuracy'])\n",
    "plt.plot(history.history['val_accuracy'])\n",
    "plt.legend(['training', 'validation'], loc = 'upper left')\n",
    "plt.show()\n",
    "results = model.evaluate(X_test, y_test)\n",
    "print(results)"
   ]
  },
  {
   "cell_type": "code",
   "execution_count": 71,
   "metadata": {
    "ExecuteTime": {
     "end_time": "2020-01-22T05:39:28.763059Z",
     "start_time": "2020-01-22T05:39:28.756049Z"
    }
   },
   "outputs": [
    {
     "name": "stdout",
     "output_type": "stream",
     "text": [
      "Model: \"sequential_4\"\n",
      "_________________________________________________________________\n",
      "Layer (type)                 Output Shape              Param #   \n",
      "=================================================================\n",
      "conv2d_7 (Conv2D)            (None, 22, 22, 32)        320       \n",
      "_________________________________________________________________\n",
      "batch_normalization_9 (Batch (None, 22, 22, 32)        128       \n",
      "_________________________________________________________________\n",
      "activation_11 (Activation)   (None, 22, 22, 32)        0         \n",
      "_________________________________________________________________\n",
      "max_pooling2d_5 (MaxPooling2 (None, 11, 11, 32)        0         \n",
      "_________________________________________________________________\n",
      "conv2d_8 (Conv2D)            (None, 9, 9, 64)          18496     \n",
      "_________________________________________________________________\n",
      "batch_normalization_10 (Batc (None, 9, 9, 64)          256       \n",
      "_________________________________________________________________\n",
      "activation_12 (Activation)   (None, 9, 9, 64)          0         \n",
      "_________________________________________________________________\n",
      "max_pooling2d_6 (MaxPooling2 (None, 4, 4, 64)          0         \n",
      "_________________________________________________________________\n",
      "flatten_4 (Flatten)          (None, 1024)              0         \n",
      "_________________________________________________________________\n",
      "dense_8 (Dense)              (None, 128)               131200    \n",
      "_________________________________________________________________\n",
      "batch_normalization_11 (Batc (None, 128)               512       \n",
      "_________________________________________________________________\n",
      "activation_13 (Activation)   (None, 128)               0         \n",
      "_________________________________________________________________\n",
      "dense_9 (Dense)              (None, 64)                8256      \n",
      "_________________________________________________________________\n",
      "batch_normalization_12 (Batc (None, 64)                256       \n",
      "_________________________________________________________________\n",
      "activation_14 (Activation)   (None, 64)                0         \n",
      "_________________________________________________________________\n",
      "dense_10 (Dense)             (None, 3)                 195       \n",
      "=================================================================\n",
      "Total params: 159,619\n",
      "Trainable params: 159,043\n",
      "Non-trainable params: 576\n",
      "_________________________________________________________________\n"
     ]
    }
   ],
   "source": [
    "model.summary()\n",
    "\n",
    "# Trainable params: 838,723  --- 보관해야 될 파라미터 수"
   ]
  },
  {
   "cell_type": "code",
   "execution_count": 72,
   "metadata": {
    "ExecuteTime": {
     "end_time": "2020-01-22T05:39:29.543984Z",
     "start_time": "2020-01-22T05:39:29.524263Z"
    }
   },
   "outputs": [
    {
     "name": "stdout",
     "output_type": "stream",
     "text": [
      "conv2d_7\n",
      "True\n",
      "--------\n",
      "batch_normalization_9\n",
      "True\n",
      "--------\n",
      "activation_11\n",
      "True\n",
      "--------\n",
      "max_pooling2d_5\n",
      "True\n",
      "--------\n",
      "conv2d_8\n",
      "True\n",
      "--------\n",
      "batch_normalization_10\n",
      "True\n",
      "--------\n",
      "activation_12\n",
      "True\n",
      "--------\n",
      "max_pooling2d_6\n",
      "True\n",
      "--------\n",
      "flatten_4\n",
      "True\n",
      "--------\n",
      "dense_8\n",
      "True\n",
      "--------\n",
      "batch_normalization_11\n",
      "True\n",
      "--------\n",
      "activation_13\n",
      "True\n",
      "--------\n",
      "dense_9\n",
      "True\n",
      "--------\n",
      "batch_normalization_12\n",
      "True\n",
      "--------\n",
      "activation_14\n",
      "True\n",
      "--------\n",
      "dense_10\n",
      "True\n",
      "--------\n"
     ]
    }
   ],
   "source": [
    "for l in model.layers:\n",
    "    print(l.name)   #레이어이름은 나중에 전이학습에서 중요!\n",
    "    print(l.trainable)  #학습가능한 레이어\n",
    "    print(\"--------\")\n",
    "\n",
    "#윗부분은 Flase로 아래부분은 True로 해서 학습시켜줌...?"
   ]
  },
  {
   "cell_type": "code",
   "execution_count": 73,
   "metadata": {
    "ExecuteTime": {
     "end_time": "2020-01-22T05:39:30.745026Z",
     "start_time": "2020-01-22T05:39:30.740020Z"
    }
   },
   "outputs": [
    {
     "name": "stdout",
     "output_type": "stream",
     "text": [
      "(3, 3, 1, 32)\n",
      "(32,)\n",
      "[[-0.01164906  0.0531459  -0.10361216]\n",
      " [-0.09466761 -0.13350043 -0.01336781]\n",
      " [-0.05819832 -0.11800562  0.07842766]]\n",
      "-0.00046886512\n"
     ]
    }
   ],
   "source": [
    "w = model.layers[0].get_weights() # 첫번째층의 가중치\n",
    "print(w[0].shape)\n",
    "print(w[1].shape)\n",
    "\n",
    "print(w[0][:,:,0,0]) # 학습된 필터..\n",
    "print(w[1][0])"
   ]
  },
  {
   "cell_type": "code",
   "execution_count": 74,
   "metadata": {
    "ExecuteTime": {
     "end_time": "2020-01-22T05:39:31.424710Z",
     "start_time": "2020-01-22T05:39:31.411356Z"
    }
   },
   "outputs": [
    {
     "data": {
      "text/plain": [
       "<tf.Tensor 'conv2d_7/BiasAdd:0' shape=(None, 22, 22, 32) dtype=float32>"
      ]
     },
     "execution_count": 74,
     "metadata": {},
     "output_type": "execute_result"
    }
   ],
   "source": [
    "model.layers[0].output\n",
    "#레이어의 출력 결과. wx + b 까지 한 결과"
   ]
  },
  {
   "cell_type": "code",
   "execution_count": 75,
   "metadata": {
    "ExecuteTime": {
     "end_time": "2020-01-22T05:39:32.042038Z",
     "start_time": "2020-01-22T05:39:32.027607Z"
    }
   },
   "outputs": [
    {
     "name": "stdout",
     "output_type": "stream",
     "text": [
      "Model: \"sequential_4\"\n",
      "_________________________________________________________________\n",
      "Layer (type)                 Output Shape              Param #   \n",
      "=================================================================\n",
      "conv2d_7 (Conv2D)            (None, 22, 22, 32)        320       \n",
      "_________________________________________________________________\n",
      "batch_normalization_9 (Batch (None, 22, 22, 32)        128       \n",
      "_________________________________________________________________\n",
      "activation_11 (Activation)   (None, 22, 22, 32)        0         \n",
      "_________________________________________________________________\n",
      "max_pooling2d_5 (MaxPooling2 (None, 11, 11, 32)        0         \n",
      "_________________________________________________________________\n",
      "conv2d_8 (Conv2D)            (None, 9, 9, 64)          18496     \n",
      "_________________________________________________________________\n",
      "batch_normalization_10 (Batc (None, 9, 9, 64)          256       \n",
      "_________________________________________________________________\n",
      "activation_12 (Activation)   (None, 9, 9, 64)          0         \n",
      "_________________________________________________________________\n",
      "max_pooling2d_6 (MaxPooling2 (None, 4, 4, 64)          0         \n",
      "_________________________________________________________________\n",
      "flatten_4 (Flatten)          (None, 1024)              0         \n",
      "_________________________________________________________________\n",
      "dense_8 (Dense)              (None, 128)               131200    \n",
      "_________________________________________________________________\n",
      "batch_normalization_11 (Batc (None, 128)               512       \n",
      "_________________________________________________________________\n",
      "activation_13 (Activation)   (None, 128)               0         \n",
      "_________________________________________________________________\n",
      "dense_9 (Dense)              (None, 64)                8256      \n",
      "_________________________________________________________________\n",
      "batch_normalization_12 (Batc (None, 64)                256       \n",
      "_________________________________________________________________\n",
      "activation_14 (Activation)   (None, 64)                0         \n",
      "_________________________________________________________________\n",
      "dense_10 (Dense)             (None, 3)                 195       \n",
      "=================================================================\n",
      "Total params: 159,619\n",
      "Trainable params: 159,043\n",
      "Non-trainable params: 576\n",
      "_________________________________________________________________\n"
     ]
    }
   ],
   "source": [
    "model.summary()"
   ]
  },
  {
   "cell_type": "code",
   "execution_count": 76,
   "metadata": {
    "ExecuteTime": {
     "end_time": "2020-01-22T05:39:32.868821Z",
     "start_time": "2020-01-22T05:39:32.763412Z"
    }
   },
   "outputs": [
    {
     "data": {
      "text/plain": [
       "<matplotlib.image.AxesImage at 0x223b3259288>"
      ]
     },
     "execution_count": 76,
     "metadata": {},
     "output_type": "execute_result"
    },
    {
     "data": {
      "image/png": "[encoded data removed]",
      "text/plain": [
       "<Figure size 432x288 with 1 Axes>"
      ]
     },
     "metadata": {
      "needs_background": "light"
     },
     "output_type": "display_data"
    }
   ],
   "source": [
    "plt.imshow(w[0][:,:,0,0], cmap=\"gray\")"
   ]
  },
  {
   "cell_type": "code",
   "execution_count": 77,
   "metadata": {
    "ExecuteTime": {
     "end_time": "2020-01-22T05:39:33.757063Z",
     "start_time": "2020-01-22T05:39:33.499385Z"
    }
   },
   "outputs": [
    {
     "name": "stdout",
     "output_type": "stream",
     "text": [
      "(15, 22, 22, 32)\n"
     ]
    },
    {
     "data": {
      "image/png": "[encoded data removed]",
      "text/plain": [
       "<Figure size 432x288 with 1 Axes>"
      ]
     },
     "metadata": {
      "needs_background": "light"
     },
     "output_type": "display_data"
    },
    {
     "data": {
      "image/png": "[encoded data removed]",
      "text/plain": [
       "<Figure size 432x288 with 1 Axes>"
      ]
     },
     "metadata": {
      "needs_background": "light"
     },
     "output_type": "display_data"
    },
    {
     "data": {
      "image/png": "[encoded data removed]",
      "text/plain": [
       "<Figure size 432x288 with 1 Axes>"
      ]
     },
     "metadata": {
      "needs_background": "light"
     },
     "output_type": "display_data"
    }
   ],
   "source": [
    "from keras.models import Model\n",
    "\n",
    "my_layer_model = Model(inputs=model.input, \n",
    "                       outputs=model.layers[0].output )\n",
    "output =my_layer_model.predict(X_test)\n",
    "\n",
    "print(output.shape)\n",
    "\n",
    "iImg = 1\n",
    "iFilter = 5\n",
    "# 1번 이미지\n",
    "plt.imshow(X_test[iImg,:,:,0], cmap=\"gray\")\n",
    "plt.show()\n",
    "\n",
    "# filter\n",
    "w = model.layers[0].get_weights()\n",
    "w = w[0]\n",
    "f = w[:,:,0,iFilter]\n",
    "plt.imshow(f, cmap=\"gray\")\n",
    "plt.show()\n",
    "\n",
    "# 출력\n",
    "plt.imshow(output[iImg,:,:,iFilter], cmap=\"gray\")\n",
    "plt.show()\n",
    "# 인덱스1번 이미지에 6번째 필터를 적용했을때의 결과값\n",
    "# 출력 = 0번째 이미지 * (0번째 필터 + b)"
   ]
  },
  {
   "cell_type": "code",
   "execution_count": 80,
   "metadata": {
    "ExecuteTime": {
     "end_time": "2020-01-22T05:40:00.311168Z",
     "start_time": "2020-01-22T05:40:00.180948Z"
    }
   },
   "outputs": [
    {
     "name": "stdout",
     "output_type": "stream",
     "text": [
      "(15, 1024)\n"
     ]
    }
   ],
   "source": [
    "my_layer_model = Model(inputs=model.input, \n",
    "                       outputs=model.get_layer(\"flatten_4\").output)\n",
    "output = my_layer_model.predict(X_test)\n",
    "\n",
    "print(output.shape)"
   ]
  },
  {
   "cell_type": "code",
   "execution_count": 85,
   "metadata": {
    "ExecuteTime": {
     "end_time": "2020-01-22T05:40:35.595101Z",
     "start_time": "2020-01-22T05:40:35.364419Z"
    }
   },
   "outputs": [
    {
     "name": "stdout",
     "output_type": "stream",
     "text": [
      "(15, 3)\n",
      "[0 0 0 0 0 1 1 1 1 0 2 2 2 2 2]\n",
      "[0 0 0 0 0 1 1 1 1 1 2 2 2 2 2]\n",
      "[1 1 1 1 1 1 1 1 1 0 1 1 1 1 1]\n",
      "14\n"
     ]
    }
   ],
   "source": [
    "my_layer_model = Model(inputs=model.input, \n",
    "                       outputs=model.get_layer(\"dense_10\").output)\n",
    "output = my_layer_model.predict(X_test)\n",
    "\n",
    "print(output.shape)\n",
    "#print(output)\n",
    "p =np.argmax(output, axis=1)\n",
    "T = np.argmax(y_test, axis = 1)\n",
    "\n",
    "print(p)\n",
    "print(T)\n",
    "print(  (p == T)*1 )\n",
    "print(  sum(p == T)*1 )\n"
   ]
  },
  {
   "cell_type": "code",
   "execution_count": null,
   "metadata": {},
   "outputs": [],
   "source": []
  },
  {
   "cell_type": "code",
   "execution_count": null,
   "metadata": {},
   "outputs": [],
   "source": []
  }
 ],
 "metadata": {
  "kernelspec": {
   "display_name": "Python 3",
   "language": "python",
   "name": "python3"
  },
  "language_info": {
   "codemirror_mode": {
    "name": "ipython",
    "version": 3
   },
   "file_extension": ".py",
   "mimetype": "text/x-python",
   "name": "python",
   "nbconvert_exporter": "python",
   "pygments_lexer": "ipython3",
   "version": "3.7.4"
  }
 },
 "nbformat": 4,
 "nbformat_minor": 2
}
